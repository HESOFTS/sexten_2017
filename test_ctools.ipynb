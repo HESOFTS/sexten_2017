{
 "cells": [
  {
   "cell_type": "markdown",
   "metadata": {
    "slideshow": {
     "slide_type": "slide"
    }
   },
   "source": [
    "# CTOOLS EXAMPLE\n",
    "\n",
    "#### In order to start this notebook you need to have sourced both gammalib and the ctools: you can skip the first box if you have already set up both gammalib and ctools by launching the gammalib_ctools.sh script before using this notebook.\n",
    "\n",
    "#### The script simply export the right environmental variables and works only if the file gammalib_ctools.sh is in /home/fermi-cta."
   ]
  },
  {
   "cell_type": "code",
   "execution_count": 1,
   "metadata": {},
   "outputs": [
    {
     "name": "stdout",
     "output_type": "stream",
     "text": [
      "export GAMMALIB=/usr/local/gamma\r\n",
      "source $GAMMALIB/bin/gammalib-init.sh\r\n",
      "#\r\n",
      "export CTOOLS=/usr/local/gamma\r\n",
      "source $CTOOLS/bin/ctools-init.sh\r\n",
      "#\r\n",
      "export GAMMAPY_EXTRA=~/gammapy-extra\r\n",
      " \r\n"
     ]
    }
   ],
   "source": [
    "# export GAMMALIB=/usr/local/gamma\n",
    "# source $GAMMALIB/bin/gammalib-init.sh\n",
    "# export CTOOLS=/usr/local/gamma\n",
    "# source $CTOOLS/bin/ctools-init.sh\n",
    "\n",
    "!source /home/fermi-cta/gammalib_ctools.sh\n",
    "!more /home/fermi-cta/gammalib_ctools.sh "
   ]
  },
  {
   "cell_type": "code",
   "execution_count": 2,
   "metadata": {
    "collapsed": true,
    "slideshow": {
     "slide_type": "slide"
    }
   },
   "outputs": [],
   "source": [
    "import gammalib\n",
    "import ctools\n",
    "from cscripts import csobsdef\n",
    "import csv"
   ]
  },
  {
   "cell_type": "markdown",
   "metadata": {},
   "source": [
    "## Create Pointing definition ASCII file in comma-separated value (CSV) format"
   ]
  },
  {
   "cell_type": "markdown",
   "metadata": {},
   "source": [
    "### We set up everything we need in order to create the .csv file that will we used later on in order to create the xml file with the script csobsdef. The xml file which is created with this script can be given to the simulation tool (ctobssim). "
   ]
  },
  {
   "cell_type": "code",
   "execution_count": 25,
   "metadata": {
    "collapsed": true,
    "slideshow": {
     "slide_type": "slide"
    }
   },
   "outputs": [],
   "source": [
    "# the id must be different for each observation\n",
    "\n",
    "csv_filename = 'obs_test.csv'\n",
    "name = 'Crab'\n",
    "ra = 83.6331\n",
    "dec = 22.0145\n",
    "duration = 30\n",
    "emin = 0.05\n",
    "emax = 20.0\n",
    "rad = 8.0\n",
    "caldb = 'prod2'\n",
    "irf = 'South_0.5h'\n",
    "deadc = 0.95\n",
    "\n",
    "with open(csv_filename, 'w') as csvfile:\n",
    "    #fieldnames = ['name', 'id','ra','dec','duration','emin', 'emax', 'rad', 'deadc', 'caldb', 'irf']\n",
    "    fieldnames = ['name', 'id','ra','dec','duration', 'emin', 'emax','']\n",
    "\n",
    "    writer = csv.DictWriter(csvfile, fieldnames=fieldnames)\n",
    "    writer.writeheader()\n",
    "    \n",
    "    for id in range(1,3):\n",
    "        if id < 10:\n",
    "            id_print = \"000\"+str(id)\n",
    "        elif id < 100:\n",
    "            id_print = \"00\"+str(id)\n",
    "        #writer.writerow({'name': name, 'id': id_print,'ra' : ra, 'dec':dec,'duration':duration, 'emin':emin, 'emax':emax, 'rad':rad, 'deadc':deadc, 'caldb':caldb, 'irf':irf})\n",
    "        writer.writerow({'name': name, 'id': id_print,'ra' : ra, 'dec':dec,'duration':duration, 'emin':emin, 'emax':emax})"
   ]
  },
  {
   "cell_type": "code",
   "execution_count": 26,
   "metadata": {
    "slideshow": {
     "slide_type": "slide"
    }
   },
   "outputs": [
    {
     "name": "stdout",
     "output_type": "stream",
     "text": [
      "name,id,ra,dec,duration,emin,emax,\r\n",
      "Crab,0001,83.6331,22.0145,30,0.05,20.0,\r\n",
      "Crab,0002,83.6331,22.0145,30,0.05,20.0,\r\n"
     ]
    }
   ],
   "source": [
    "# this is the csv file: see http://cta.irap.omp.eu/ctools/users/reference_manual/csobsdef.html for details.\n",
    "!more obs_test.csv"
   ]
  },
  {
   "cell_type": "markdown",
   "metadata": {},
   "source": [
    "## Create Observation Definition XML file"
   ]
  },
  {
   "cell_type": "markdown",
   "metadata": {},
   "source": [
    "All the tools can be used from Python in the same way. First you have to create an **instance** of the the class, then you have to set up all the required parameters. If the python script is run from terminal (*$ python script.py*) and some informations are missing, they will be asked by the script itself (CHECK).\n",
    "\n",
    "The execute() method executes the ctobssim class in the same way as if it were executed from the command line. Alternatively, you may “run” the ctobssim tool using run(). The main difference to the execute() method is that the **run() will not write** the simulated event file to disk. Why is this useful? Well, after having typed sim.run() the ctobssim class still exists as an object in memory, including all the simulated events."
   ]
  },
  {
   "cell_type": "code",
   "execution_count": 28,
   "metadata": {
    "collapsed": true,
    "slideshow": {
     "slide_type": "slide"
    }
   },
   "outputs": [],
   "source": [
    "# the script is called in this way because it was explicitely imported at the beginning\n",
    "\n",
    "obsdef = csobsdef()                #create empty instance\n",
    "obsdef['inpnt'] = csv_filename     #Pointing definition ASCII file in comma-separated value (CSV) format.\n",
    "#obsdef['emin'] = emin \n",
    "#obsdef['emax'] = emax\n",
    "obsdef['deadc'] = deadc\n",
    "obsdef['caldb'] = caldb\n",
    "obsdef['irf'] = irf\n",
    "obsdef['rad'] = rad\n",
    "obsdef['outobs'] = 'out_csobsdef.xml'\n",
    "obsdef.execute()"
   ]
  },
  {
   "cell_type": "code",
   "execution_count": 29,
   "metadata": {
    "collapsed": true,
    "slideshow": {
     "slide_type": "slide"
    }
   },
   "outputs": [
    {
     "name": "stdout",
     "output_type": "stream",
     "text": [
      "<?xml version=\"1.0\" encoding=\"UTF-8\" standalone=\"no\"?>\r\n",
      "<observation_list title=\"observation list\">\r\n",
      "  <observation name=\"Crab\" id=\"0001\" instrument=\"CTA\">\r\n",
      "    <parameter name=\"Pointing\" ra=\"83.6331\" dec=\"22.0145\"/>\r\n",
      "    <parameter name=\"EnergyBoundaries\" emin=\"50000\" emax=\"20000000\"/>\r\n",
      "    <parameter name=\"GoodTimeIntervals\" tmin=\"0\" tmax=\"30\"/>\r\n",
      "    <parameter name=\"TimeReference\" mjdrefi=\"51544\" mjdreff=\"0.5\" timeunit=\"s\" timesys=\"TT\" timeref=\"LOCAL\"/>\r\n",
      "    <parameter name=\"RegionOfInterest\" ra=\"83.6331\" dec=\"22.0145\" rad=\"8\"/>\r\n",
      "    <parameter name=\"Deadtime\" deadc=\"0.95\"/>\r\n",
      "    <parameter name=\"Calibration\" database=\"prod2\" response=\"South_0.5h\"/>\r\n",
      "  </observation>\r\n",
      "  <observation name=\"Crab\" id=\"0002\" instrument=\"CTA\">\r\n",
      "    <parameter name=\"Pointing\" ra=\"83.6331\" dec=\"22.0145\"/>\r\n",
      "    <parameter name=\"EnergyBoundaries\" emin=\"50000\" emax=\"20000000\"/>\r\n",
      "    <parameter name=\"GoodTimeIntervals\" tmin=\"30\" tmax=\"60\"/>\r\n",
      "    <parameter name=\"TimeReference\" mjdrefi=\"51544\" mjdreff=\"0.5\" timeunit=\"s\" timesys=\"TT\" timeref=\"LOCAL\"/>\r\n",
      "    <parameter name=\"RegionOfInterest\" ra=\"83.6331\" dec=\"22.0145\" rad=\"8\"/>\r\n",
      "    <parameter name=\"Deadtime\" deadc=\"0.95\"/>\r\n",
      "    <parameter name=\"Calibration\" database=\"prod2\" response=\"South_0.5h\"/>\r\n",
      "  </observation>\r\n",
      "</observation_list>\r\n"
     ]
    }
   ],
   "source": [
    "#visualization of the Observation Definition XML file.\n",
    "!xmllint 'out_csobsdef.xml'"
   ]
  },
  {
   "cell_type": "markdown",
   "metadata": {},
   "source": [
    "## Simulation (ctobssim)"
   ]
  },
  {
   "cell_type": "markdown",
   "metadata": {},
   "source": [
    "Now that we have created the **observation definition .xml** file, we can run the simulation. We only need to provide a **model** for the source that we want to simulate. We have to give a model for the source to be simulated: since many sources are simulated together, the xml model will have a piece for every source to simulate, including the background."
   ]
  },
  {
   "cell_type": "markdown",
   "metadata": {},
   "source": [
    "**RUN CTOBBSIM**\n",
    "\n",
    "Everything is kept in memory in the object sim."
   ]
  },
  {
   "cell_type": "code",
   "execution_count": 18,
   "metadata": {
    "collapsed": true,
    "slideshow": {
     "slide_type": "slide"
    }
   },
   "outputs": [],
   "source": [
    "sim = ctools.ctobssim()\n",
    "sim[\"inobs\"] = \"out_csobsdef.xml\"\n",
    "sim[\"inmodel\"] = \"${CTOOLS}/share/models/crab.xml\"   #we load a sample model\n",
    "sim.run()\n",
    "\n",
    "# ...and print the results\n",
    "print(sim.obs())\n",
    "print(sim.obs()[0].events())   #for the first pointing (id = 0001)\n",
    "print(sim.obs()[1].events())   #for the second pointing (id = 0002)...and so on"
   ]
  },
  {
   "cell_type": "markdown",
   "metadata": {},
   "source": [
    "**EXECUTE CTOBBSIM**\n",
    "\n",
    "The object sim in created and destroyed once the method execute() is called. This will save a fits file for every pointing and a global *observation definition XML file*, different from the output of csobsdef (out_csobsdef.xml), which has a observation item for each pointing, in which the name of the fits file of the events is specified. "
   ]
  },
  {
   "cell_type": "code",
   "execution_count": 11,
   "metadata": {
    "collapsed": true
   },
   "outputs": [],
   "source": [
    "# EXECUTE CTOBBSIM\n",
    "sim = ctools.ctobssim()\n",
    "sim[\"inobs\"] = \"out_csobsdef.xml\"\n",
    "sim[\"inmodel\"] = \"${CTOOLS}/share/models/crab.xml\"  #we load a sample model\n",
    "sim[\"prefix\"] = name+\"_obs_out_\"                    # this is optional: \"sim_events_\" is the default\n",
    "sim[\"outevents\"] = name+\"_obs_out.xml\"\n",
    "sim.execute()"
   ]
  },
  {
   "cell_type": "code",
   "execution_count": 12,
   "metadata": {},
   "outputs": [
    {
     "name": "stdout",
     "output_type": "stream",
     "text": [
      "<?xml version=\"1.0\" encoding=\"UTF-8\" standalone=\"no\"?>\r\n",
      "<observation_list title=\"observation list\">\r\n",
      "  <observation name=\"Crab\" id=\"0001\" instrument=\"CTA\">\r\n",
      "    <parameter name=\"EventList\" file=\"Crab_obs_out_000001.fits\"/>\r\n",
      "    <parameter name=\"Calibration\" database=\"prod2\" response=\"South_0.5h\"/>\r\n",
      "  </observation>\r\n",
      "  <observation name=\"Crab\" id=\"0002\" instrument=\"CTA\">\r\n",
      "    <parameter name=\"EventList\" file=\"Crab_obs_out_000002.fits\"/>\r\n",
      "    <parameter name=\"Calibration\" database=\"prod2\" response=\"South_0.5h\"/>\r\n",
      "  </observation>\r\n",
      "</observation_list>\r\n"
     ]
    }
   ],
   "source": [
    "!xmllint *_obs_out.xml\n",
    "#like = ctools.ctlike(sim_cp.obs())\n"
   ]
  },
  {
   "cell_type": "code",
   "execution_count": 9,
   "metadata": {},
   "outputs": [
    {
     "name": "stdout",
     "output_type": "stream",
     "text": [
      "<?xml version=\"1.0\" standalone=\"no\"?>\r\n",
      "<source_library title=\"source library\">\r\n",
      "  <source name=\"Crab\" type=\"PointSource\">\r\n",
      "    <spectrum type=\"PowerLaw\">\r\n",
      "       <parameter name=\"Prefactor\" scale=\"1e-16\" value=\"5.7\" min=\"1e-07\" max=\"1000.0\" free=\"1\"/>\r\n",
      "       <parameter name=\"Index\" scale=\"-1\" value=\"2.48\" min=\"0.0\" max=\"+5.0\" free=\"1\"/>\r\n",
      "       <parameter name=\"PivotEnergy\" scale=\"1e6\" value=\"0.3\" min=\"0.01\" max=\"1000.0\" free=\"0\"/>\r\n",
      "    </spectrum>\r\n",
      "    <spatialModel type=\"PointSource\">\r\n",
      "      <parameter name=\"RA\" scale=\"1.0\" value=\"83.6331\" min=\"-360\" max=\"360\" free=\"0\"/>\r\n",
      "      <parameter name=\"DEC\" scale=\"1.0\" value=\"22.0145\" min=\"-90\" max=\"90\" free=\"0\"/>\r\n",
      "    </spatialModel>\r\n",
      "  </source>\r\n",
      "  <source name=\"CTABackgroundModel\" type=\"CTAIrfBackground\" instrument=\"CTA\">\r\n",
      "    <spectrum type=\"PowerLaw\">\t\r\n",
      "      <parameter name=\"Prefactor\" scale=\"1.0\" value=\"1.0\" min=\"1e-3\" max=\"1e+3\" free=\"1\"/>\t\r\n",
      "      <parameter name=\"Index\" scale=\"1.0\" value=\"0.0\" min=\"-5.0\" max=\"+5.0\" free=\"1\"/>\r\n",
      "      <parameter name=\"PivotEnergy\" scale=\"1e6\" value=\"1.0\" min=\"0.01\" max=\"1000.0\" free=\"0\"/>\r\n",
      "    </spectrum>\r\n",
      "  </source>\t\r\n",
      "</source_library>\r\n"
     ]
    }
   ],
   "source": [
    "!xmllint $CTOOLS/share/models/crab.xml"
   ]
  }
 ],
 "metadata": {
  "kernelspec": {
   "display_name": "Python 2",
   "language": "python",
   "name": "python2"
  },
  "language_info": {
   "codemirror_mode": {
    "name": "ipython",
    "version": 2
   },
   "file_extension": ".py",
   "mimetype": "text/x-python",
   "name": "python",
   "nbconvert_exporter": "python",
   "pygments_lexer": "ipython2",
   "version": "2.7.5"
  }
 },
 "nbformat": 4,
 "nbformat_minor": 2
}
