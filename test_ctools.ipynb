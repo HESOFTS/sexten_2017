{
 "cells": [
  {
   "cell_type": "code",
   "execution_count": 1,
   "metadata": {
    "collapsed": false
   },
   "outputs": [],
   "source": [
    "import gammalib\n",
    "import ctools\n",
    "from cscripts import csobsdef\n",
    "import csv\n",
    "\n"
   ]
  },
  {
   "cell_type": "code",
   "execution_count": 8,
   "metadata": {
    "collapsed": false
   },
   "outputs": [],
   "source": [
    "name = 'Crab'\n",
    "id = \"001\" \n",
    "ra = 83.6331\n",
    "dec = 22.0145\n",
    "duration = 30\n",
    "emin = 0.05\n",
    "emax = 20.0\n",
    "rad = 8.0\n",
    "\n",
    "with open('obs_test.csv', 'w') as csvfile:\n",
    "    fieldnames = ['name', 'id','ra','dec','duration','emin', 'emax', 'rad']\n",
    "    writer = csv.DictWriter(csvfile, fieldnames=fieldnames)\n",
    "    writer.writeheader()\n",
    "    \n",
    "    \n",
    "#name,id,ra,dec,duration,emin, emax, rad\n",
    "#080916C,001,83.6331,22.0145,25,0.02,1.0,6.0\n",
    "\n",
    "\n",
    "\n"
   ]
  },
  {
   "cell_type": "code",
   "execution_count": 7,
   "metadata": {
    "collapsed": false
   },
   "outputs": [],
   "source": [
    "!more obs_test.csv\n",
    "#test = csobsdef()\n",
    "#test[\"ra\"] = 15"
   ]
  },
  {
   "cell_type": "code",
   "execution_count": null,
   "metadata": {
    "collapsed": true
   },
   "outputs": [],
   "source": [
    "a = cscripts.csobsdef()\n",
    "a.inpnt = a['inpnt'].filename('dati.txt')\n",
    "a.outfile = a['outobs'].filename('outputbuffo.xml')\n",
    "a.get_parameters()\n",
    "a.run()\n",
    "a.execute()"
   ]
  }
 ],
 "metadata": {
  "kernelspec": {
   "display_name": "Python 2",
   "language": "python",
   "name": "python2"
  },
  "language_info": {
   "codemirror_mode": {
    "name": "ipython",
    "version": 2
   },
   "file_extension": ".py",
   "mimetype": "text/x-python",
   "name": "python",
   "nbconvert_exporter": "python",
   "pygments_lexer": "ipython2",
   "version": "2.7.13"
  }
 },
 "nbformat": 4,
 "nbformat_minor": 2
}
