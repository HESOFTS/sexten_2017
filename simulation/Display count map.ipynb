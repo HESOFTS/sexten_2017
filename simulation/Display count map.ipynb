{
 "cells": [
  {
   "cell_type": "markdown",
   "metadata": {},
   "source": [
    "# Display the count map"
   ]
  },
  {
   "cell_type": "code",
   "execution_count": null,
   "metadata": {
    "collapsed": true
   },
   "outputs": [],
   "source": [
    "%matplotlib inline\n",
    "from gammapy.data import EventList\n",
    "from gammapy.image import SkyImage\n",
    "from astropy.io import fits"
   ]
  },
  {
   "cell_type": "markdown",
   "metadata": {},
   "source": [
    "### Load a fits file and display the count map. "
   ]
  },
  {
   "cell_type": "code",
   "execution_count": null,
   "metadata": {},
   "outputs": [],
   "source": [
    "fits_name = 'sim_events_000002.fits'\n",
    "hdulist = fits.open(fits_name)\n",
    "prihdr = hdulist[1].header\n",
    "\n",
    "ra_pnt = prihdr['RA_PNT']\n",
    "dec_pnt = prihdr['DEC_PNT']\n",
    "events = EventList.read(fits_name)\n",
    "\n",
    "deg = 8\n",
    "binsz = 0.2\n",
    "npix = int(deg/binsz)\n",
    "image = SkyImage.empty(nxpix = npix, nypix=npix, binsz=binsz, xref = ra_pnt, yref=dec_pnt, coordsys='CEL', proj='AIT')\n",
    "\n",
    "image.fill_events(events)\n",
    "\n",
    "image.show()\n"
   ]
  },
  {
   "cell_type": "code",
   "execution_count": null,
   "metadata": {
    "collapsed": true
   },
   "outputs": [],
   "source": []
  }
 ],
 "metadata": {
  "kernelspec": {
   "display_name": "Python 2",
   "language": "python",
   "name": "python2"
  },
  "language_info": {
   "codemirror_mode": {
    "name": "ipython",
    "version": 2
   },
   "file_extension": ".py",
   "mimetype": "text/x-python",
   "name": "python",
   "nbconvert_exporter": "python",
   "pygments_lexer": "ipython2",
   "version": "2.7.5"
  }
 },
 "nbformat": 4,
 "nbformat_minor": 2
}
