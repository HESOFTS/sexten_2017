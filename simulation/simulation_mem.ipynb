{
 "cells": [
  {
   "cell_type": "markdown",
   "metadata": {
    "collapsed": true
   },
   "source": [
    "# Simulation (ctobssim) \n",
    "## (no output on disk. Everything is saved in memory)\n",
    "\n",
    "The purpose of this notebook is to perform a simulation using `ctobbsim` (and other scripts), create a count map with `ctskymap`, fit the spectrum with `cssens` and plot the spectrum using a function in the script `make_spectrum` (which comes together with ctools). \n",
    "\n",
    "In order to do the simulation, one has two options:\n",
    "- create an *observation container* file with the [given notebook](observation_definition.ipynb), in which many different pointings can be specified and might be useful for some specific analysis;\n",
    "- perform a simpler simulation, setting everything directly in this notebook."
   ]
  },
  {
   "cell_type": "code",
   "execution_count": 1,
   "metadata": {
    "collapsed": true
   },
   "outputs": [],
   "source": [
    "import gammalib\n",
    "import ctools\n",
    "import cscripts"
   ]
  },
  {
   "cell_type": "markdown",
   "metadata": {},
   "source": [
    "# 1) Model Creation"
   ]
  },
  {
   "cell_type": "markdown",
   "metadata": {},
   "source": [
    "\n",
    "We need to provide a **model** for the source that we want to simulate; since many sources are simulated together, the xml model will have a section for every source to simulate, including the background. An example model is in $CTOOLS/share/models/crab.xml."
   ]
  },
  {
   "cell_type": "code",
   "execution_count": 2,
   "metadata": {
    "collapsed": true
   },
   "outputs": [],
   "source": [
    "#!xmllint $CTOOLS/share/models/crab.xml"
   ]
  },
  {
   "cell_type": "markdown",
   "metadata": {},
   "source": [
    "The simplest way to create the model of the source is by hand, editing an existing model (for example the Crab model) and adjusting the parameters to the desired value. This approach is useful for a first test, but then one need to have a way of creating XML models rapidly and in a simple way.\n",
    "\n",
    "In order to do so, we have written a **Python** script which read in input all the data concerning the source that one wants to simulate (both the source itself and the background) and produces the XML model to be given to ctools. \n",
    "\n",
    "The script can bu used both with the notebook, that you find in sexten_2017/event_creator/Model_Creation.ipynb, or by running the python script from command line ($ python scriptModel_variable.py fileinput.txt). Please read the README that you find in the `model_creator` folder (you can find it on [this link](https://github.com/sharingan90/sexten_2017/blob/master/model_creator/README.md)).\n"
   ]
  },
  {
   "cell_type": "markdown",
   "metadata": {},
   "source": [
    "# 2) Set up the simulation\n",
    "## NOTE: choose just one of the following options.\n",
    "The simulation can be set up in two main different ways: \n",
    "## - **WITH** *the observation definition XML* file (built with  [this](observation_definition.ipynb) notebook)..."
   ]
  },
  {
   "cell_type": "markdown",
   "metadata": {},
   "source": [
    "### a) using the gammalib library"
   ]
  },
  {
   "cell_type": "code",
   "execution_count": null,
   "metadata": {
    "collapsed": true
   },
   "outputs": [],
   "source": [
    "obs_cont_bool = True\n",
    "obsutils_bool = False\n",
    "\n",
    "obs = gammalib.GObservations('out_csobsdef.xml')\n",
    "obs.models(gammalib.GModels(\"crab_mem.xml\"))\n",
    "sim = ctools.ctobssim(obs)\n",
    "\n",
    "sim.run()"
   ]
  },
  {
   "cell_type": "code",
   "execution_count": null,
   "metadata": {
    "collapsed": true
   },
   "outputs": [],
   "source": [
    "src_name = obs.models()[0].name()\n",
    "ra = obs.models()[src_name][\"RA\"].value()\n",
    "dec = obs.models()[src_name][\"DEC\"].value()"
   ]
  },
  {
   "cell_type": "markdown",
   "metadata": {},
   "source": [
    "### b) OR using only ctools"
   ]
  },
  {
   "cell_type": "code",
   "execution_count": null,
   "metadata": {
    "collapsed": true
   },
   "outputs": [],
   "source": [
    "obs_cont_bool = True\n",
    "obsutils_bool = False\n",
    "\n",
    "src_model = \"crab.xml\"\n",
    "\n",
    "# we extract the source name, ra and dec\n",
    "models  = gammalib.GModels(gammalib.expand_env(src_model))\n",
    "src_name = models[0].name()\n",
    "ra      = models[0][\"RA\"].value()\n",
    "dec     = models[0][\"DEC\"].value()\n",
    "print(src_name, ra, dec)"
   ]
  },
  {
   "cell_type": "code",
   "execution_count": null,
   "metadata": {
    "collapsed": true
   },
   "outputs": [],
   "source": [
    "sim = ctools.ctobssim()\n",
    "sim[\"inobs\"] = \"out_csobsdef.xml\"\n",
    "sim[\"inmodel\"] = \"crab_mem.xml\"   #we load a sample model\n",
    "\n",
    "sim.run()"
   ]
  },
  {
   "cell_type": "markdown",
   "metadata": {},
   "source": [
    "### ...and both in case a) and b) one can also retreive the results with sim.obs()[*id_num*].events()..."
   ]
  },
  {
   "cell_type": "code",
   "execution_count": null,
   "metadata": {
    "collapsed": true,
    "slideshow": {
     "slide_type": "slide"
    }
   },
   "outputs": [],
   "source": [
    "# ...and print the results\n",
    "\n",
    "print(sim.obs()[0].events())   #for the first pointing (id = 0001)\n",
    "#print(sim.obs()[1].events())   #for the second pointing (id = 0002)...and so on"
   ]
  },
  {
   "cell_type": "markdown",
   "metadata": {},
   "source": [
    "## - WITHOUT the observation definition XML file, "
   ]
  },
  {
   "cell_type": "markdown",
   "metadata": {},
   "source": [
    "## either by:"
   ]
  },
  {
   "cell_type": "markdown",
   "metadata": {},
   "source": [
    "### c) using the cscripts named csobsutil,"
   ]
  },
  {
   "cell_type": "code",
   "execution_count": null,
   "metadata": {
    "collapsed": true
   },
   "outputs": [],
   "source": [
    "# the variable obsutils_bool is set uqual to True since we are performing the simulation with csobsutils\n",
    "obs_cont_bool = False\n",
    "obsutils_bool = True\n",
    "\n",
    "src_model = \"crab_mem.xml\"\n",
    "\n",
    "models  = gammalib.GModels(gammalib.expand_env(src_model))\n",
    "src_name = models[0].name()\n",
    "ra      = models[0][\"RA\"].value()\n",
    "dec     = models[0][\"DEC\"].value()\n",
    "\n",
    "dur = 30        # seconds\n",
    "emin = 0.05          # in TeV\n",
    "emax = 20.0          # in TeV\n",
    "rad = 8.0\n",
    "caldb, irf = 'prod2','South_0.5h'\n",
    "deadc = 0.95\n",
    "\n",
    "pattern = cscripts.obsutils.set_obs_patterns(\"single\", ra=ra, dec=dec, offset=1.0)   #the other option is \"four\"\n",
    "obs = cscripts.obsutils.set_obs_list(pattern, duration=dur, emin=emin, emax=emax, rad=rad, caldb=caldb, irf=irf, deadc = deadc)\n",
    "obs.models(gammalib.GModels(src_model))\n",
    "sim = cscripts.obsutils.sim(obs)\n"
   ]
  },
  {
   "cell_type": "markdown",
   "metadata": {},
   "source": [
    "### (and again the results can be displayed)\n",
    "\n",
    "### [**NOTE**: only in this case the results must be seen with sim[0].events() and not sim.obs()[0].events() as in the other cases.]"
   ]
  },
  {
   "cell_type": "code",
   "execution_count": null,
   "metadata": {
    "collapsed": true
   },
   "outputs": [],
   "source": [
    "print(sim[0].events())"
   ]
  },
  {
   "cell_type": "markdown",
   "metadata": {},
   "source": [
    "### d) OR using directly ctobssim."
   ]
  },
  {
   "cell_type": "code",
   "execution_count": 4,
   "metadata": {
    "collapsed": true
   },
   "outputs": [],
   "source": [
    "dur = 1800                         # seconds\n",
    "emin, emax = 0.05, 20.0          # in TeV\n",
    "rad, deadc = 8.0, 0.95\n",
    "caldb, irf = 'prod2','South_0.5h'\n",
    "\n",
    "# name of the output of the simulation\n",
    "src_model = \"crab_mem.xml\"\n",
    "\n",
    "models  = gammalib.GModels(gammalib.expand_env(src_model))\n",
    "src_name = models[0].name()\n",
    "ra      = models[0][\"RA\"].value()\n",
    "dec     = models[0][\"DEC\"].value()"
   ]
  },
  {
   "cell_type": "code",
   "execution_count": 5,
   "metadata": {
    "collapsed": true
   },
   "outputs": [],
   "source": [
    "obs_cont_bool = False\n",
    "obsutils_bool = False\n",
    "\n",
    "sim = ctools.ctobssim()\n",
    "\n",
    "sim[\"inmodel\"] = src_model\n",
    "sim[\"ra\"] = ra\n",
    "sim[\"dec\"] = dec\n",
    "sim[\"rad\"] = rad\n",
    "sim[\"tmin\"] = 0.0\n",
    "sim[\"tmax\"] = dur\n",
    "sim[\"emin\"] = emin\n",
    "sim[\"emax\"] = emax\n",
    "sim[\"caldb\"] = caldb\n",
    "sim[\"irf\"] = irf\n",
    "sim.run()"
   ]
  },
  {
   "cell_type": "markdown",
   "metadata": {},
   "source": [
    "### And again see the results stored in memory."
   ]
  },
  {
   "cell_type": "code",
   "execution_count": null,
   "metadata": {
    "collapsed": true
   },
   "outputs": [],
   "source": [
    "print(sim.obs())"
   ]
  },
  {
   "cell_type": "markdown",
   "metadata": {},
   "source": [
    "# 3) View the results\n",
    "## 3.1) Create a count map with the tool ctskymap."
   ]
  },
  {
   "cell_type": "code",
   "execution_count": 7,
   "metadata": {
    "collapsed": true
   },
   "outputs": [],
   "source": [
    "# we clone the sim object because when the skymap instance is executed, it is deleted.\n",
    "# so it's better to copy it before executing anything.\n",
    "\n",
    "if obsutils_bool == True:\n",
    "    sim_cp = sim.copy()\n",
    "else:\n",
    "    sim_cp = sim.obs().copy()"
   ]
  },
  {
   "cell_type": "code",
   "execution_count": 8,
   "metadata": {
    "collapsed": true
   },
   "outputs": [],
   "source": [
    "name_map_out = \"skymap.fits\"\n",
    "\n",
    "skymap = ctools.ctskymap(sim_cp)\n",
    "skymap['emin'] = sim_cp[0].events().emin().TeV()\n",
    "skymap['emax'] = sim_cp[0].events().emax().TeV()\n",
    "skymap['nxpix'] = 20\n",
    "skymap['nypix'] = 20\n",
    "skymap['binsz'] = 0.5\n",
    "skymap['coordsys'] = \"CEL\"\n",
    "skymap['proj'] = \"AIT\"\n",
    "skymap['xref'] = ra \n",
    "skymap['yref'] = dec \n",
    "skymap['bkgsubtract'] = \"NONE\" \n",
    "skymap['outmap'] = name_map_out\n",
    "skymap.execute()"
   ]
  },
  {
   "cell_type": "markdown",
   "metadata": {},
   "source": [
    "and we view it with ds9:"
   ]
  },
  {
   "cell_type": "code",
   "execution_count": null,
   "metadata": {
    "collapsed": true
   },
   "outputs": [],
   "source": [
    "!ds9 -wcs icrs -wcs skyformat degrees skymap.fits"
   ]
  },
  {
   "cell_type": "markdown",
   "metadata": {},
   "source": [
    "Another option is to view it using matplotlib and the astropy library"
   ]
  },
  {
   "cell_type": "code",
   "execution_count": 9,
   "metadata": {},
   "outputs": [
    {
     "data": {
      "text/plain": [
       "<matplotlib.colorbar.Colorbar at 0x6547c10>"
      ]
     },
     "execution_count": 9,
     "metadata": {},
     "output_type": "execute_result"
    },
    {
     "data": {
      "image/png": "[encoded data removed]",
      "text/plain": [
       "<matplotlib.figure.Figure at 0x64c0310>"
      ]
     },
     "metadata": {},
     "output_type": "display_data"
    }
   ],
   "source": [
    "%matplotlib inline\n",
    "import matplotlib.pyplot as plt\n",
    "from astropy.io import fits\n",
    "\n",
    "hdu_list = fits.open(name_map_out)\n",
    "image_data = hdu_list[0].data\n",
    "plt.imshow(image_data, cmap='gray')#, interpolation = 'sinc')#, vmin=0)\n",
    "plt.colorbar()\n",
    "#plt.savefig(\"out.png\")"
   ]
  },
  {
   "cell_type": "markdown",
   "metadata": {},
   "source": [
    "# 4) Likelihood"
   ]
  },
  {
   "cell_type": "code",
   "execution_count": 10,
   "metadata": {
    "collapsed": true
   },
   "outputs": [],
   "source": [
    "# add description aboutn tscalc calculation\n",
    "if obsutils_bool == True:\n",
    "    sim_cp = sim.copy()\n",
    "else:\n",
    "    sim_cp = sim.obs().copy()"
   ]
  },
  {
   "cell_type": "code",
   "execution_count": null,
   "metadata": {
    "collapsed": true
   },
   "outputs": [],
   "source": [
    "!xmllint crab_mem.xml"
   ]
  },
  {
   "cell_type": "code",
   "execution_count": 11,
   "metadata": {},
   "outputs": [
    {
     "name": "stdout",
     "output_type": "stream",
     "text": [
      "True\n"
     ]
    }
   ],
   "source": [
    "# check whether the TS calculation has been enabled\n",
    "new_models = gammalib.GModels('crab_mem.xml')\n",
    "print((new_models[0].tscalc()))\n",
    "#print(new_models)"
   ]
  },
  {
   "cell_type": "code",
   "execution_count": 12,
   "metadata": {
    "collapsed": true
   },
   "outputs": [],
   "source": [
    "like = ctools.ctlike(sim_cp)\n",
    "#like['inmodel'] = 'crab_in_like.xml'\n",
    "#print(like.obs()[0].events())\n",
    "like.run()"
   ]
  },
  {
   "cell_type": "code",
   "execution_count": 13,
   "metadata": {},
   "outputs": [
    {
     "name": "stdout",
     "output_type": "stream",
     "text": [
      "Model Crab has TS 25254.870\n"
     ]
    }
   ],
   "source": [
    "models = like.obs().models()\n",
    "for model in models:\n",
    "    #print model\n",
    "    if model.has_ts():\n",
    "        print(\"Model %s has TS %.3f\" % (model.name(), model.ts()))"
   ]
  },
  {
   "cell_type": "markdown",
   "metadata": {},
   "source": [
    "# 5) Spectrum\n",
    "This part is taken from the script `make_spectrum.py` which is by default installed in */usr/local/gamma/share/examples/python*.\n",
    "\n",
    "**NOTE**: This might take some time (few minutes) since the script performs a likelihood analysis. \n",
    "### NOTE: if you use it with the observation definition xml it might take some time (3 x 30\" observations takes some minutes)"
   ]
  },
  {
   "cell_type": "code",
   "execution_count": 14,
   "metadata": {
    "collapsed": true
   },
   "outputs": [],
   "source": [
    "# this is necessary due to the different output from the different tools \n",
    "if obsutils_bool == True:\n",
    "    sim_spec = sim.copy()\n",
    "else:\n",
    "    sim_spec = sim.obs().copy()"
   ]
  },
  {
   "cell_type": "code",
   "execution_count": 15,
   "metadata": {
    "collapsed": true
   },
   "outputs": [],
   "source": [
    "spec = cscripts.csspec(sim_spec)\n",
    "spec['srcname']  = src_name\n",
    "spec['outfile']  = 'example_spectrum.fits'\n",
    "spec['expcube']  = 'NONE'\n",
    "spec['psfcube']  = 'NONE'\n",
    "spec['bkgcube']  = 'NONE'\n",
    "spec['edisp']    = False\n",
    "spec['emin']     = sim_spec[0].events().emin().TeV()\n",
    "spec['emax']     = sim_spec[0].events().emax().TeV()\n",
    "spec['enumbins'] = 10\n",
    "spec['ebinalg']  = 'LOG'\n",
    "spec.run()\n",
    "#spec.save()\n",
    "\n",
    "spectrum = spec.spectrum()"
   ]
  },
  {
   "cell_type": "code",
   "execution_count": 16,
   "metadata": {},
   "outputs": [
    {
     "data": {
      "image/png": "[encoded data removed]",
      "text/plain": [
       "<matplotlib.figure.Figure at 0x66dec50>"
      ]
     },
     "metadata": {},
     "output_type": "display_data"
    }
   ],
   "source": [
    "from make_spectrum import plot_spectrum\n",
    "\n",
    "plot_spectrum(spectrum, \"\")"
   ]
  },
  {
   "cell_type": "markdown",
   "metadata": {},
   "source": [
    "# 5) Butterfly Plot\n",
    "#### The  input source model is the output from ctlike. If this is not the case, the option `fit` must be set equal `yes`."
   ]
  },
  {
   "cell_type": "code",
   "execution_count": 17,
   "metadata": {
    "collapsed": true
   },
   "outputs": [],
   "source": [
    "btfy = ctools.ctbutterfly(like.obs())\n",
    "# btfy['inobs'] = \"Crab_out_sim.fits\"\n",
    "# btfy['inmodel'] = \"Crab_like_out.xml\"\n",
    "btfy['srcname'] = src_name\n",
    "# btfy['caldb'] = caldb\n",
    "# btfy['irf'] = irf\n",
    "btfy['outfile'] = 'butterfly_crab.txt'\n",
    "btfy['emin'] = like.obs()[0].events().emin().TeV()\n",
    "btfy['emax'] = like.obs()[0].events().emax().TeV()\n",
    "btfy.execute()"
   ]
  },
  {
   "cell_type": "markdown",
   "metadata": {},
   "source": [
    "Since the script does not display the images in terminal, we have to open a terminal window, source again `gammalib_ctools.sh` and run `$CTOOLS/share/examples/python/show_butterfly.py simulation/butterfly_crab.txt`"
   ]
  },
  {
   "cell_type": "code",
   "execution_count": null,
   "metadata": {
    "collapsed": true
   },
   "outputs": [],
   "source": []
  }
 ],
 "metadata": {
  "kernelspec": {
   "display_name": "Python 2",
   "language": "python",
   "name": "python2"
  },
  "language_info": {
   "codemirror_mode": {
    "name": "ipython",
    "version": 2
   },
   "file_extension": ".py",
   "mimetype": "text/x-python",
   "name": "python",
   "nbconvert_exporter": "python",
   "pygments_lexer": "ipython2",
   "version": "2.7.5"
  }
 },
 "nbformat": 4,
 "nbformat_minor": 2
}
