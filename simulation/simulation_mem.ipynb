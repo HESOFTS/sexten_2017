{
 "cells": [
  {
   "cell_type": "markdown",
   "metadata": {
    "collapsed": true
   },
   "source": [
    "# Simulation (ctobssim) \n",
    "## (no output on disk. Everything is saved in memory)\n",
    "\n",
    "The purpose of this notebook is to perform a simulation using `ctobbsim` (and other scripts), create a count map with `ctskymap`, fit the spectrum with `cssens` and plot the spectrum using a function in the script `make_spectrum` (which comes together with ctools). \n",
    "\n",
    "In order to do the simulation, one has two options:\n",
    "- create an *observation container* file with the [given notebook](observation_definition.ipynb), in which many different pointings can be specified and might be useful for some specific analysis;\n",
    "- perform a simpler simulation, setting everything directly in this notebook."
   ]
  },
  {
   "cell_type": "code",
   "execution_count": null,
   "metadata": {
    "collapsed": true
   },
   "outputs": [],
   "source": [
    "import gammalib\n",
    "import ctools\n",
    "import cscripts"
   ]
  },
  {
   "cell_type": "markdown",
   "metadata": {},
   "source": [
    "# 1) Model Creation (TO BE DONE) -\n",
    "# use the crab model "
   ]
  },
  {
   "cell_type": "markdown",
   "metadata": {},
   "source": [
    "We only need to provide a **model** for the source that we want to simulate. We have to give a model for the source to be simulated: since many sources are simulated together, the xml model will have a piece for every source to simulate, including the background. An example model is $CTOOLS/share/models/crab.xml."
   ]
  },
  {
   "cell_type": "code",
   "execution_count": null,
   "metadata": {
    "collapsed": true
   },
   "outputs": [],
   "source": [
    "#!xmllint $CTOOLS/share/models/crab.xml\n"
   ]
  },
  {
   "cell_type": "markdown",
   "metadata": {},
   "source": [
    "The model of the source can be created in many ways, either by hand, editing an existing model (for example the crab model) and adjusting the parameters to the desired value.\n",
    "\n",
    "We have written a script which read in input all the data concerning the source that one wants to simulate (both the source itself and the background). More details can be found in sexten_2017/event_creator/Model_Creation.ipynb\n"
   ]
  },
  {
   "cell_type": "markdown",
   "metadata": {},
   "source": [
    "# 2) Set up the simulation\n",
    "## NOTE: choose just one of the following options.\n",
    "The simulation can be set up in two main different ways: \n",
    "## - **WITH** *the observation definition XML* file (built with  [this](observation_definition.ipynb) notebook)..."
   ]
  },
  {
   "cell_type": "markdown",
   "metadata": {},
   "source": [
    "### a) using the gammalib library"
   ]
  },
  {
   "cell_type": "code",
   "execution_count": null,
   "metadata": {
    "collapsed": true
   },
   "outputs": [],
   "source": [
    "obs_cont_bool = True\n",
    "obsutils_bool = False\n",
    "\n",
    "obs = gammalib.GObservations('out_csobsdef.xml')\n",
    "obs.models(gammalib.GModels(\"crab_mem.xml\"))\n",
    "sim = ctools.ctobssim(obs)\n",
    "\n",
    "sim.run()"
   ]
  },
  {
   "cell_type": "markdown",
   "metadata": {},
   "source": [
    "### b) OR using only ctools"
   ]
  },
  {
   "cell_type": "code",
   "execution_count": null,
   "metadata": {
    "collapsed": true
   },
   "outputs": [],
   "source": [
    "obs_cont_bool = True\n",
    "obsutils_bool = False\n",
    "\n",
    "src_model = \"crab.xml\"\n",
    "src_name = \"Crab\"               # to be given by hand (SOLVE!!!!)\n",
    "\n",
    "sim = ctools.ctobssim()\n",
    "sim[\"inobs\"] = \"out_csobsdef.xml\"\n",
    "sim[\"inmodel\"] = \"crab_mem.xml\"   #we load a sample model\n",
    "\n",
    "sim.run()"
   ]
  },
  {
   "cell_type": "markdown",
   "metadata": {},
   "source": [
    "### ...and both in case a) and b) one can also retreive the results with sim.obs()[*id_num*].events()..."
   ]
  },
  {
   "cell_type": "code",
   "execution_count": null,
   "metadata": {
    "collapsed": true,
    "slideshow": {
     "slide_type": "slide"
    }
   },
   "outputs": [],
   "source": [
    "# ...and print the results\n",
    "#print(sim.obs())\n",
    "print(sim.obs()[0].events())   #for the first pointing (id = 0001)\n",
    "#print(sim.obs()[1].events())   #for the second pointing (id = 0002)...and so on"
   ]
  },
  {
   "cell_type": "markdown",
   "metadata": {},
   "source": [
    "## - WITHOUT the observation definition XML file, "
   ]
  },
  {
   "cell_type": "markdown",
   "metadata": {},
   "source": [
    "## either by:"
   ]
  },
  {
   "cell_type": "markdown",
   "metadata": {},
   "source": [
    "### c) using the cscripts named csobsutil,"
   ]
  },
  {
   "cell_type": "code",
   "execution_count": null,
   "metadata": {
    "collapsed": true
   },
   "outputs": [],
   "source": [
    "# the variable obsutils_bool is set uqual to True since we are performing the simulation with csobsutils\n",
    "\n",
    "obs_cont_bool = False\n",
    "obsutils_bool = True\n",
    "ra = 83.6331\n",
    "dec = 22.0145\n",
    "dur = 30        # seconds\n",
    "emin = 0.05          # in TeV\n",
    "emax = 20.0          # in TeV\n",
    "rad = 8.0\n",
    "caldb = 'prod2'\n",
    "irf = 'South_0.5h'\n",
    "deadc = 0.95\n",
    "\n",
    "pattern = cscripts.obsutils.set_obs_patterns(\"single\", ra=ra, dec=dec, offset=1.0)   #the other option is \"four\"\n",
    "obs = cscripts.obsutils.set_obs_list(pattern, duration=dur, emin=emin, emax=emax, rad=rad, caldb=caldb, irf=irf, deadc = deadc)\n",
    "obs.models(gammalib.GModels(\"crab_mem.xml\"))\n",
    "sim = cscripts.obsutils.sim(obs)\n"
   ]
  },
  {
   "cell_type": "markdown",
   "metadata": {},
   "source": [
    "### (and again the results can be displayed)\n",
    "\n",
    "### [**NOTE**: only in this case the results must be seen with sim[0].events() and not sim.obs()[0].events() as in the other cases.]"
   ]
  },
  {
   "cell_type": "code",
   "execution_count": null,
   "metadata": {
    "collapsed": true
   },
   "outputs": [],
   "source": [
    "print(obs[0].events())"
   ]
  },
  {
   "cell_type": "markdown",
   "metadata": {},
   "source": [
    "### d) OR using directly ctobssim."
   ]
  },
  {
   "cell_type": "code",
   "execution_count": null,
   "metadata": {
    "collapsed": true
   },
   "outputs": [],
   "source": [
    "src_name = \"Crab\"\n",
    "\n",
    "ra, dec = 83.6331, 22.0145\n",
    "dur = 30                         # seconds\n",
    "emin, emax = 0.05, 20.0          # in TeV\n",
    "rad, deadc = 8.0, 0.95\n",
    "caldb, irf = 'prod2','South_0.5h'\n",
    "\n",
    "# name of the output of the simulation\n",
    "src_model = \"crab_mem.xml\""
   ]
  },
  {
   "cell_type": "code",
   "execution_count": null,
   "metadata": {
    "collapsed": true
   },
   "outputs": [],
   "source": [
    "obs_cont_bool = False\n",
    "obsutils_bool = False\n",
    "\n",
    "sim = ctools.ctobssim()\n",
    "\n",
    "sim[\"inmodel\"] = src_model\n",
    "sim[\"ra\"] = ra\n",
    "sim[\"dec\"] = dec\n",
    "sim[\"rad\"] = rad\n",
    "sim[\"tmin\"] = 0.0\n",
    "sim[\"tmax\"] = dur\n",
    "sim[\"emin\"] = emin\n",
    "sim[\"emax\"] = emax\n",
    "sim[\"caldb\"] = caldb\n",
    "sim[\"irf\"] = irf\n",
    "sim.run()"
   ]
  },
  {
   "cell_type": "markdown",
   "metadata": {},
   "source": [
    "### And again see the results stored in memory."
   ]
  },
  {
   "cell_type": "code",
   "execution_count": null,
   "metadata": {
    "collapsed": true
   },
   "outputs": [],
   "source": [
    "print(sim.obs())"
   ]
  },
  {
   "cell_type": "markdown",
   "metadata": {},
   "source": [
    "# 3) View the results\n",
    "## 3.1) Create a count map with the tool ctskymap."
   ]
  },
  {
   "cell_type": "code",
   "execution_count": null,
   "metadata": {},
   "outputs": [],
   "source": [
    "# we clone the sim object because when the skymap instance is executed, it is deleted.\n",
    "# so it's better to copy it before executing anything.\n",
    "\n",
    "if obsutils_bool == True:\n",
    "    sim_cp = sim.copy()\n",
    "else:\n",
    "    sim_cp = sim.obs().copy()"
   ]
  },
  {
   "cell_type": "code",
   "execution_count": null,
   "metadata": {
    "collapsed": true
   },
   "outputs": [],
   "source": [
    "name_map_out = \"skymap.fits\"\n",
    "\n",
    "skymap = ctools.ctskymap(sim_cp)\n",
    "skymap['emin'] = 0.1\n",
    "skymap['emax'] = 100\n",
    "skymap['nxpix'] = 20\n",
    "skymap['nypix'] = 20\n",
    "skymap['binsz'] = 0.5\n",
    "skymap['coordsys'] = \"CEL\"\n",
    "skymap['proj'] = \"AIT\"\n",
    "skymap['xref'] = 83.63 #RA\n",
    "skymap['yref'] = 22.01 #DEC\n",
    "skymap['bkgsubtract'] = \"NONE\" \n",
    "skymap['outmap'] = name_map_out\n",
    "skymap.execute()"
   ]
  },
  {
   "cell_type": "markdown",
   "metadata": {},
   "source": [
    "and we view it with ds9:"
   ]
  },
  {
   "cell_type": "code",
   "execution_count": null,
   "metadata": {
    "collapsed": true
   },
   "outputs": [],
   "source": [
    "!ds9 -wcs icrs -wcs skyformat degrees skymap.fits"
   ]
  },
  {
   "cell_type": "markdown",
   "metadata": {},
   "source": [
    "Another option is to view it using matplotlib and the astropy library"
   ]
  },
  {
   "cell_type": "code",
   "execution_count": null,
   "metadata": {},
   "outputs": [],
   "source": [
    "%matplotlib inline\n",
    "import matplotlib.pyplot as plt\n",
    "from astropy.io import fits\n",
    "\n",
    "hdu_list = fits.open(name_map_out)\n",
    "image_data = hdu_list[0].data\n",
    "plt.imshow(image_data, cmap='gray', interpolation = 'sinc')#, vmin=0)\n",
    "plt.colorbar()\n",
    "#plt.savefig(\"out.png\")"
   ]
  },
  {
   "cell_type": "markdown",
   "metadata": {},
   "source": [
    "# 4) Likelihood"
   ]
  },
  {
   "cell_type": "code",
   "execution_count": null,
   "metadata": {
    "collapsed": true
   },
   "outputs": [],
   "source": [
    "# add description aboutn tscalc calculation\n",
    "if obsutils_bool == True:\n",
    "    sim_cp = sim.copy()\n",
    "else:\n",
    "    sim_cp = sim.obs().copy()"
   ]
  },
  {
   "cell_type": "code",
   "execution_count": null,
   "metadata": {
    "collapsed": true
   },
   "outputs": [],
   "source": [
    "!xmllint crab_mem.xml"
   ]
  },
  {
   "cell_type": "code",
   "execution_count": null,
   "metadata": {},
   "outputs": [],
   "source": [
    "# check whether the TS calculation has been enabled\n",
    "new_models = gammalib.GModels('crab_mem.xml')\n",
    "print((new_models[0].tscalc()))\n",
    "#print(new_models)"
   ]
  },
  {
   "cell_type": "code",
   "execution_count": null,
   "metadata": {},
   "outputs": [],
   "source": [
    "like = ctools.ctlike(sim_cp)\n",
    "#like['inmodel'] = 'crab_in_like.xml'\n",
    "#print(like.obs()[0].events())\n",
    "like.run()"
   ]
  },
  {
   "cell_type": "code",
   "execution_count": null,
   "metadata": {},
   "outputs": [],
   "source": [
    "models = like.obs().models()\n",
    "for model in models:\n",
    "    #print model\n",
    "    if model.has_ts():\n",
    "        print(\"Model %s has TS %.3f\" % (model.name(), model.ts()))\n",
    "        print(\"*********************TS******************\")"
   ]
  },
  {
   "cell_type": "markdown",
   "metadata": {},
   "source": [
    "# 5) Spectrum\n",
    "This part is taken from the script make_spectrum.py which is by default installed in */usr/local/gamma/share/examples/python*.\n",
    "\n",
    "**NOTE**: This might take some time (few minutes) since the script performs a likelihood analysis. "
   ]
  },
  {
   "cell_type": "code",
   "execution_count": null,
   "metadata": {},
   "outputs": [],
   "source": [
    "# this is necessary due to the different output from the different tools \n",
    "if obsutils_bool == True:\n",
    "    sim_spec = sim.copy()\n",
    "else:\n",
    "    sim_spec = sim.obs().copy()\n",
    "\n",
    "if obs_cont_bool == True:\n",
    "    src_name = sim_spec[0].name()\n",
    "else:\n",
    "    src_name = sim_spec.models()[\"Crab\"].name()\n",
    " \n",
    "print(src_name)"
   ]
  },
  {
   "cell_type": "code",
   "execution_count": null,
   "metadata": {
    "collapsed": true
   },
   "outputs": [],
   "source": [
    "#spec = cscripts.csspec(sim.obs())\n",
    "spec = cscripts.csspec(sim_spec)\n",
    "spec['srcname']  = src_name\n",
    "spec['outfile']  = 'example_spectrum.fits'\n",
    "spec['expcube']  = 'NONE'\n",
    "spec['psfcube']  = 'NONE'\n",
    "spec['bkgcube']  = 'NONE'\n",
    "spec['edisp']    = False\n",
    "spec['emin']     = sim_spec[0].events().emin().TeV()\n",
    "spec['emax']     = sim_spec[0].events().emax().TeV()\n",
    "spec['enumbins'] = 10\n",
    "spec['ebinalg']  = 'LOG'\n",
    "spec.run()\n",
    "#spec.save()\n"
   ]
  },
  {
   "cell_type": "code",
   "execution_count": null,
   "metadata": {
    "collapsed": true
   },
   "outputs": [],
   "source": [
    "spectrum = spec.spectrum()"
   ]
  },
  {
   "cell_type": "code",
   "execution_count": null,
   "metadata": {
    "collapsed": true
   },
   "outputs": [],
   "source": [
    "from make_spectrum import plot_spectrum"
   ]
  },
  {
   "cell_type": "code",
   "execution_count": null,
   "metadata": {},
   "outputs": [],
   "source": [
    "plot_spectrum(spectrum, \"\")"
   ]
  },
  {
   "cell_type": "code",
   "execution_count": null,
   "metadata": {
    "collapsed": true
   },
   "outputs": [],
   "source": []
  }
 ],
 "metadata": {
  "kernelspec": {
   "display_name": "Python 2",
   "language": "python",
   "name": "python2"
  },
  "language_info": {
   "codemirror_mode": {
    "name": "ipython",
    "version": 2
   },
   "file_extension": ".py",
   "mimetype": "text/x-python",
   "name": "python",
   "nbconvert_exporter": "python",
   "pygments_lexer": "ipython2",
   "version": "2.7.5"
  }
 },
 "nbformat": 4,
 "nbformat_minor": 2
}
