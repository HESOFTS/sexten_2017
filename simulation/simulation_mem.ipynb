{
 "cells": [
  {
   "cell_type": "markdown",
   "metadata": {
    "collapsed": true
   },
   "source": [
    "# Simulation (ctobssim) \n",
    "## (no output on disk but everything is saved in memory)\n",
    "\n",
    "The purpose of this notebook is to perform a simulation using ctobbsim. In order to do this, one has two options:\n",
    "- create an observation container file with the [given notebook](observation_definition.ipynb), in which many different pointings can be specified and might be useful for some specific analysis;\n",
    "- perform a simpler simulation, setting everything directly in this notebook."
   ]
  },
  {
   "cell_type": "code",
   "execution_count": null,
   "metadata": {
    "collapsed": true
   },
   "outputs": [],
   "source": [
    "import gammalib\n",
    "import ctools\n",
    "import cscripts "
   ]
  },
  {
   "cell_type": "markdown",
   "metadata": {},
   "source": [
    "Now that we have created the **observation definition .xml** file, we can run the simulation. \n",
    "\n",
    "We only need to provide a **model** for the source that we want to simulate. We have to give a model for the source to be simulated: since many sources are simulated together, the xml model will have a piece for every source to simulate, including the background. An example model is $CTOOLS/share/models/crab.xml."
   ]
  },
  {
   "cell_type": "code",
   "execution_count": null,
   "metadata": {
    "collapsed": true
   },
   "outputs": [],
   "source": [
    "#!xmllint $CTOOLS/share/models/crab.xml"
   ]
  },
  {
   "cell_type": "markdown",
   "metadata": {},
   "source": [
    "## Set up the simulation\n",
    "The simulation can be set up in two different ways: \n",
    "- **WITH** the observation definition XML file\n",
    "\n",
    "*1) using the gammalib library *"
   ]
  },
  {
   "cell_type": "code",
   "execution_count": null,
   "metadata": {
    "collapsed": true
   },
   "outputs": [],
   "source": [
    "obs = gammalib.GObservations('out_csobsdef.xml')\n",
    "obs.models(gammalib.GModels(\"${CTOOLS}/share/models/crab.xml\"))\n",
    "sim = ctools.ctobssim(obs)\n",
    "sim.run()"
   ]
  },
  {
   "cell_type": "markdown",
   "metadata": {},
   "source": [
    "*2) using only ctools*"
   ]
  },
  {
   "cell_type": "code",
   "execution_count": null,
   "metadata": {
    "collapsed": true
   },
   "outputs": [],
   "source": [
    "sim = ctools.ctobssim()\n",
    "sim[\"inobs\"] = \"out_csobsdef.xml\"\n",
    "sim[\"inmodel\"] = \"${CTOOLS}/share/models/crab.xml\"   #we load a sample model\n",
    "sim.run()"
   ]
  },
  {
   "cell_type": "markdown",
   "metadata": {},
   "source": [
    "...and in both cases one can also retreive the results with sim.obs()..."
   ]
  },
  {
   "cell_type": "code",
   "execution_count": null,
   "metadata": {
    "collapsed": true,
    "scrolled": true,
    "slideshow": {
     "slide_type": "slide"
    }
   },
   "outputs": [],
   "source": [
    "# ...and print the results\n",
    "#print(sim.obs())\n",
    "print(sim.obs()[0].events())   #for the first pointing (id = 0001)\n",
    "print(sim.obs()[1].events())   #for the second pointing (id = 0002)...and so on"
   ]
  },
  {
   "cell_type": "markdown",
   "metadata": {},
   "source": [
    "- **WITHOUT** the observation definition XML file"
   ]
  },
  {
   "cell_type": "markdown",
   "metadata": {},
   "source": [
    "*3) using the cscripts named csobsutil*"
   ]
  },
  {
   "cell_type": "code",
   "execution_count": null,
   "metadata": {
    "collapsed": true
   },
   "outputs": [],
   "source": [
    "obsutils_bool = True\n",
    "\n",
    "pattern = cscripts.obsutils.set_obs_patterns(\"single\", ra=83.63, dec=22.01, offset=1.0)   #the other option is \"four\"\n",
    "obs = cscripts.obsutils.set_obs_list(pattern, duration=30, emin=0.05, emax=100.0, rad=5.0, caldb=\"prod2\", irf=\"South_0.5h\")\n",
    "obs.models(gammalib.GModels(\"${CTOOLS}/share/models/crab.xml\"))\n",
    "sim = cscripts.obsutils.sim(obs)\n"
   ]
  },
  {
   "cell_type": "markdown",
   "metadata": {},
   "source": [
    "...and one can again see the results...\n",
    "\n",
    "**NOTE**: only in this case the results must be seen with sim[0].events() and not sim.obs()[0].events() as in the other cases."
   ]
  },
  {
   "cell_type": "code",
   "execution_count": null,
   "metadata": {
    "collapsed": true
   },
   "outputs": [],
   "source": [
    "print(sim[0].events())"
   ]
  },
  {
   "cell_type": "markdown",
   "metadata": {},
   "source": [
    "4) using directly ctobssim"
   ]
  },
  {
   "cell_type": "code",
   "execution_count": null,
   "metadata": {},
   "outputs": [],
   "source": [
    "sim = ctools.ctobssim()\n",
    "sim[\"inmodel\"] = \"${CTOOLS}/share/models/crab.xml\"\n",
    "sim[\"outevents\"] = \"events.fits\"\n",
    "sim[\"caldb\"] = \"prod2\"\n",
    "sim[\"irf\"] = \"South_0.5h\"\n",
    "sim[\"ra\"] = 83.63\n",
    "sim[\"dec\"] = 22.01\n",
    "sim[\"rad\"] = 5.0\n",
    "sim[\"tmin\"] = 0.0\n",
    "sim[\"tmax\"] = 30.0\n",
    "sim[\"emin\"] = 0.1\n",
    "sim[\"emax\"] = 100.0\n",
    "sim.run()"
   ]
  },
  {
   "cell_type": "markdown",
   "metadata": {},
   "source": [
    "And again retrive the results..."
   ]
  },
  {
   "cell_type": "code",
   "execution_count": null,
   "metadata": {},
   "outputs": [],
   "source": [
    "print(sim.obs())"
   ]
  },
  {
   "cell_type": "markdown",
   "metadata": {},
   "source": [
    "## View the results\n",
    "### counts sky map"
   ]
  },
  {
   "cell_type": "markdown",
   "metadata": {},
   "source": [
    "We create a count map with ctskymap"
   ]
  },
  {
   "cell_type": "code",
   "execution_count": null,
   "metadata": {
    "collapsed": true
   },
   "outputs": [],
   "source": [
    "# we clone the \n",
    "if obsutils_bool == True:\n",
    "    sim_cp = sim.copy()\n",
    "else:\n",
    "    sim_cp = sim.obs().copy()"
   ]
  },
  {
   "cell_type": "code",
   "execution_count": null,
   "metadata": {
    "collapsed": true
   },
   "outputs": [],
   "source": [
    "skymap = ctools.ctskymap(sim_cp)\n",
    "skymap['emin'] = 0.1\n",
    "skymap['emax'] = 100\n",
    "skymap['nxpix'] = 20\n",
    "skymap['nypix'] = 20\n",
    "skymap['binsz'] = 0.5\n",
    "skymap['coordsys'] = \"CEL\"\n",
    "skymap['proj'] = \"AIT\"\n",
    "skymap['xref'] = 83.63 #RA\n",
    "skymap['yref'] = 22.01 #DEC\n",
    "skymap['bkgsubtract'] = \"NONE\" \n",
    "skymap['outmap'] = \"skymap.fits\"\n",
    "skymap.execute()"
   ]
  },
  {
   "cell_type": "markdown",
   "metadata": {},
   "source": [
    "and we view it with ds9:"
   ]
  },
  {
   "cell_type": "code",
   "execution_count": null,
   "metadata": {
    "collapsed": true
   },
   "outputs": [],
   "source": [
    "!ds9 -wcs icrs -wcs skyformat degrees skymap.fits"
   ]
  },
  {
   "cell_type": "markdown",
   "metadata": {},
   "source": [
    "Another option is to view it using matplotlib and the astropy library"
   ]
  },
  {
   "cell_type": "code",
   "execution_count": null,
   "metadata": {
    "collapsed": true
   },
   "outputs": [],
   "source": [
    "%matplotlib inline\n",
    "import matplotlib.pyplot as plt\n",
    "from astropy.io import fits\n",
    "hdu_list = fits.open(\"skymap.fits\")\n",
    "image_data = hdu_list[0].data\n",
    "plt.imshow(image_data, cmap='gray', interpolation = 'sinc')#, vmin=0)\n",
    "plt.colorbar()\n",
    "#plt.savefig(\"out.png\")"
   ]
  },
  {
   "cell_type": "markdown",
   "metadata": {},
   "source": [
    "## Spectrum (TDB)\n",
    "This part was adapted from the script make_spectrum.py which is bu default installed in */usr/local/gamma/share/examples/python*."
   ]
  },
  {
   "cell_type": "code",
   "execution_count": null,
   "metadata": {},
   "outputs": [],
   "source": [
    "# this is necessary due to the different output from the different tools \n",
    "if obsutils_bool == True:\n",
    "    sim_spec = sim.copy()\n",
    "else:\n",
    "    sim_spec = sim.obs().copy()"
   ]
  },
  {
   "cell_type": "code",
   "execution_count": null,
   "metadata": {},
   "outputs": [],
   "source": [
    "#spec = cscripts.csspec(sim.obs())\n",
    "spec = cscripts.csspec(sim_spec)\n",
    "spec['srcname']  = 'Crab'\n",
    "spec['outfile']  = 'example_spectrum.fits'\n",
    "spec['expcube']  = 'NONE'\n",
    "spec['psfcube']  = 'NONE'\n",
    "spec['bkgcube']  = 'NONE'\n",
    "spec['edisp']    = False\n",
    "spec['emin']     = emin\n",
    "spec['emax']     = emax\n",
    "spec['enumbins'] = enumbins\n",
    "spec['ebinalg']  = 'LOG'\n",
    "spec.run()\n",
    "spec.save()\n"
   ]
  },
  {
   "cell_type": "code",
   "execution_count": null,
   "metadata": {
    "collapsed": true
   },
   "outputs": [],
   "source": []
  }
 ],
 "metadata": {
  "kernelspec": {
   "display_name": "Python 2",
   "language": "python",
   "name": "python2"
  },
  "language_info": {
   "codemirror_mode": {
    "name": "ipython",
    "version": 2
   },
   "file_extension": ".py",
   "mimetype": "text/x-python",
   "name": "python",
   "nbconvert_exporter": "python",
   "pygments_lexer": "ipython2",
   "version": "2.7.5"
  }
 },
 "nbformat": 4,
 "nbformat_minor": 2
}
