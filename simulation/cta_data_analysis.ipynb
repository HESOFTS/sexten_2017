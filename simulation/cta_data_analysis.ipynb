{
 "cells": [
  {
   "cell_type": "markdown",
   "metadata": {},
   "source": [
    "# CTA data analysis with Gammapy"
   ]
  },
  {
   "cell_type": "markdown",
   "metadata": {},
   "source": [
    "## NOTE: this notebook is adapted from $GAMMAPY_EXTRA/notebooks/cta_data_analysis.ipynb"
   ]
  },
  {
   "cell_type": "markdown",
   "metadata": {},
   "source": [
    "## Caveat\n",
    "\n",
    "* This notebook was prepared in a hurry, it is incomplete.\n",
    "* The CTA first data challenge (1DC) data is still in preparation.\n",
    "* Accessing background models doesn't work yet with Gammapy\n",
    "* Several other small known issues with the data and Gammapy.\n",
    "* Work in progress ... please excuse the mess!\n",
    "\n",
    "## Introduction\n",
    "\n",
    "The focus of this notebook is on demonstrating how to quickly perform a standard analysis of a given target in the sky. The gammapy functions and classes that we'll use won't be explained in detail. Please refer to the other gammapy tutorial notebooks, if you're interested.\n",
    "\n",
    "At some point there should be a convenience class to make this kind of analysis easier, feedback on how this should be implemented is welcome!"
   ]
  },
  {
   "cell_type": "markdown",
   "metadata": {},
   "source": [
    "## Setup\n",
    "\n",
    "As usual, we'll start with some setup ..."
   ]
  },
  {
   "cell_type": "code",
   "execution_count": null,
   "metadata": {
    "collapsed": true
   },
   "outputs": [],
   "source": [
    "%matplotlib inline\n",
    "import matplotlib.pyplot as plt"
   ]
  },
  {
   "cell_type": "code",
   "execution_count": null,
   "metadata": {},
   "outputs": [],
   "source": [
    "# Check package versions, if something goes wrong here you won't be able to run the notebook\n",
    "import gammapy\n",
    "import numpy as np\n",
    "import astropy\n",
    "import regions\n",
    "import sherpa\n",
    "import uncertainties\n",
    "import photutils\n",
    "\n",
    "print('gammapy:', gammapy.__version__)\n",
    "print('numpy:', np.__version__)\n",
    "print('astropy:', astropy.__version__)\n",
    "print('regions:', regions.__version__)\n",
    "print('sherpa:', sherpa.__version__)\n",
    "print('uncertainties:', uncertainties.__version__)\n",
    "print('photutils:', photutils.__version__)"
   ]
  },
  {
   "cell_type": "code",
   "execution_count": null,
   "metadata": {
    "collapsed": true
   },
   "outputs": [],
   "source": [
    "import numpy as np\n",
    "import astropy.units as u\n",
    "from astropy.coordinates import SkyCoord, Angle\n",
    "from regions import CircleSkyRegion\n",
    "from photutils.detection import find_peaks\n",
    "from gammapy.data import DataStore\n",
    "from gammapy.spectrum import (\n",
    "    SpectrumExtraction,\n",
    "    SpectrumFit,\n",
    "    SpectrumResult,\n",
    "    models,\n",
    "    SpectrumEnergyGroupMaker,\n",
    "    FluxPointEstimator,\n",
    ")\n",
    "from gammapy.image import SkyImage, IACTBasicImageEstimator\n",
    "from gammapy.background import RingBackgroundEstimator, ReflectedRegionsBackgroundEstimator\n",
    "from gammapy.utils.energy import EnergyBounds\n",
    "from gammapy.detect import TSImageEstimator"
   ]
  },
  {
   "cell_type": "code",
   "execution_count": null,
   "metadata": {
    "collapsed": true
   },
   "outputs": [],
   "source": [
    "# Setup the logger\n",
    "import logging\n",
    "logging.basicConfig()\n",
    "log = logging.getLogger('gammapy.spectrum')\n",
    "log.setLevel(logging.ERROR)"
   ]
  },
  {
   "cell_type": "markdown",
   "metadata": {},
   "source": [
    "## Load Data\n",
    "\n",
    "First, we have to load the CTA data exported to fits format (the format is described in detail [here](https://gamma-astro-data-formats.readthedocs.io/en/latest/))."
   ]
  },
  {
   "cell_type": "code",
   "execution_count": null,
   "metadata": {
    "scrolled": true
   },
   "outputs": [],
   "source": [
    "#DATA_DIR = '$GAMMAPY_EXTRA/test_datasets/cta_1dc'\n",
    "DATA_DIR = 'dataset_test'\n",
    "# DATA_DIR = '/Users/deil/1dc/1dc.pre'\n",
    "\n",
    "data_store = DataStore.from_dir(DATA_DIR)\n",
    "data_store.info()"
   ]
  },
  {
   "cell_type": "code",
   "execution_count": null,
   "metadata": {},
   "outputs": [],
   "source": [
    "print(data_store.obs_table.colnames)\n",
    "obs_colnames = ['OBS_ID', 'DATE_OBS', 'TIME_OBS', 'GLON_PNT', 'GLAT_PNT']\n",
    "data_store.obs_table[::1][obs_colnames]"
   ]
  },
  {
   "cell_type": "markdown",
   "metadata": {},
   "source": [
    "## Select observations"
   ]
  },
  {
   "cell_type": "code",
   "execution_count": null,
   "metadata": {
    "collapsed": true
   },
   "outputs": [],
   "source": [
    "# I've only copied EVENTS for these three obs for testing\n",
    "# Trying to access any other will fail!\n",
    "obs_id = [1, 2, 3]\n",
    "obs_list = data_store.obs_list(obs_id)"
   ]
  },
  {
   "cell_type": "code",
   "execution_count": null,
   "metadata": {},
   "outputs": [],
   "source": [
    "data_store.obs_table.select_obs_id(obs_id)[obs_colnames]"
   ]
  },
  {
   "cell_type": "code",
   "execution_count": null,
   "metadata": {
    "collapsed": true
   },
   "outputs": [],
   "source": [
    "obs = obs_list[0]"
   ]
  },
  {
   "cell_type": "code",
   "execution_count": null,
   "metadata": {},
   "outputs": [],
   "source": [
    "print(obs)"
   ]
  },
  {
   "cell_type": "code",
   "execution_count": null,
   "metadata": {},
   "outputs": [],
   "source": [
    "obs.events.peek()"
   ]
  },
  {
   "cell_type": "code",
   "execution_count": null,
   "metadata": {},
   "outputs": [],
   "source": [
    "obs.aeff.peek()"
   ]
  },
  {
   "cell_type": "code",
   "execution_count": null,
   "metadata": {},
   "outputs": [],
   "source": [
    "obs.edisp.peek()"
   ]
  },
  {
   "cell_type": "code",
   "execution_count": null,
   "metadata": {},
   "outputs": [],
   "source": [
    "obs.psf.peek()"
   ]
  },
  {
   "cell_type": "markdown",
   "metadata": {},
   "source": [
    "## Define inputs\n",
    "\n",
    "Select the target position and define an ON region for the spectral analysis"
   ]
  },
  {
   "cell_type": "code",
   "execution_count": null,
   "metadata": {
    "collapsed": true
   },
   "outputs": [],
   "source": [
    "target_position = SkyCoord(l=184.557466192, b=-5.78434365208, unit='deg', frame='galactic')\n",
    "on_radius = 0.2 * u.deg\n",
    "on_region = CircleSkyRegion(center=target_position, radius=on_radius)"
   ]
  },
  {
   "cell_type": "code",
   "execution_count": null,
   "metadata": {},
   "outputs": [],
   "source": [
    "# Define reference image centered on the target\n",
    "xref = target_position.galactic.l.value\n",
    "yref = target_position.galactic.b.value\n",
    "# size = 10 * u.deg\n",
    "# binsz = 0.02 # degree per pixel\n",
    "# npix = int((size / binsz).value)\n",
    "\n",
    "ref_image = SkyImage.empty(\n",
    "    nxpix=800, nypix=600, binsz=0.02,\n",
    "    xref=xref, yref=yref,\n",
    "    proj='TAN', coordsys='GAL',\n",
    ")\n",
    "print(ref_image)"
   ]
  },
  {
   "cell_type": "code",
   "execution_count": null,
   "metadata": {},
   "outputs": [],
   "source": [
    "exclusion_mask = ref_image.region_mask(on_region)\n",
    "exclusion_mask.data = 1 - exclusion_mask.data\n",
    "exclusion_mask.plot()"
   ]
  },
  {
   "cell_type": "markdown",
   "metadata": {},
   "source": [
    "## Make maps\n",
    "\n",
    "Standard analysis products: Counts and Significance images"
   ]
  },
  {
   "cell_type": "code",
   "execution_count": null,
   "metadata": {},
   "outputs": [],
   "source": [
    "bkg_estimator = RingBackgroundEstimator(\n",
    "    r_in=0.5 * u.deg,\n",
    "    width=0.2 * u.deg,\n",
    ")\n",
    "image_estimator = IACTBasicImageEstimator(\n",
    "    reference=ref_image,\n",
    "    emin=50 * u.GeV,\n",
    "    emax=20 * u.TeV,\n",
    "    offset_max=3 * u.deg,\n",
    "    background_estimator=bkg_estimator,\n",
    "    exclusion_mask=exclusion_mask,\n",
    ")\n",
    "images = image_estimator.run(obs_list)\n",
    "images.names"
   ]
  },
  {
   "cell_type": "code",
   "execution_count": null,
   "metadata": {
    "collapsed": true
   },
   "outputs": [],
   "source": [
    "def show_image(image, radius=3, vmin=0, vmax=3):\n",
    "    \"\"\"Little helper function to show the images for this application here.\"\"\"\n",
    "    image.smooth(radius=radius).show(vmin=vmin, vmax=vmax, add_cbar=True)\n",
    "    image.cutout(\n",
    "        position=SkyCoord(xref, yref, unit='deg', frame='galactic'),\n",
    "        size=(2*u.deg, 3*u.deg),\n",
    "    ).smooth(radius=radius).show(vmin=vmin, vmax=vmax, add_cbar=True)"
   ]
  },
  {
   "cell_type": "code",
   "execution_count": null,
   "metadata": {},
   "outputs": [],
   "source": [
    "show_image(images['counts'], radius=0, vmax=10)"
   ]
  },
  {
   "cell_type": "code",
   "execution_count": null,
   "metadata": {},
   "outputs": [],
   "source": [
    "show_image(images['counts'], vmax=5)"
   ]
  },
  {
   "cell_type": "code",
   "execution_count": null,
   "metadata": {},
   "outputs": [],
   "source": [
    "show_image(images['background'], vmax=1)"
   ]
  },
  {
   "cell_type": "code",
   "execution_count": null,
   "metadata": {},
   "outputs": [],
   "source": [
    "show_image(images['excess'], vmax=2)"
   ]
  },
  {
   "cell_type": "code",
   "execution_count": null,
   "metadata": {},
   "outputs": [],
   "source": [
    "# Significance image\n",
    "# Just for fun, let's compute it by hand ...\n",
    "from astropy.convolution import Tophat2DKernel\n",
    "kernel = Tophat2DKernel(4)\n",
    "kernel.normalize('peak')\n",
    "\n",
    "counts_conv = images['counts'].convolve(kernel.array)\n",
    "background_conv = images['background'].convolve(kernel.array)\n",
    "\n",
    "from gammapy.stats import significance\n",
    "significance_image = SkyImage.empty_like(ref_image)\n",
    "significance_image.data = significance(counts_conv.data, background_conv.data)\n",
    "show_image(significance_image, vmax=8)"
   ]
  },
  {
   "cell_type": "markdown",
   "metadata": {},
   "source": [
    "## Source Detection\n",
    "\n",
    "Use the class [TSImageEstimator](http://docs.gammapy.org/en/latest/api/gammapy.detect.compute_ts_image.html#gammapy.detect.TSImageEstimator.html) and [photutils.find_peaks](http://photutils.readthedocs.io/en/stable/api/photutils.find_peaks.html) to detect point-like sources on the images:"
   ]
  },
  {
   "cell_type": "code",
   "execution_count": null,
   "metadata": {},
   "outputs": [],
   "source": [
    "# cut out smaller piece of the PSF image to save computing time\n",
    "# for covenience we're \"misusing\" the SkyImage class represent the PSF on the sky.\n",
    "kernel = images['psf'].cutout(target_position, size= 1.1 * u.deg)\n",
    "kernel.show()"
   ]
  },
  {
   "cell_type": "code",
   "execution_count": null,
   "metadata": {},
   "outputs": [],
   "source": [
    "ts_image_estimator = TSImageEstimator()\n",
    "images_ts = ts_image_estimator.run(images, kernel.data)\n",
    "print(images_ts.names)"
   ]
  },
  {
   "cell_type": "code",
   "execution_count": null,
   "metadata": {},
   "outputs": [],
   "source": [
    "# find pointlike sources with sqrt(TS) > 5\n",
    "sources = find_peaks(data=images_ts['sqrt_ts'].data, threshold=5, wcs=images_ts['sqrt_ts'].wcs)\n",
    "sources"
   ]
  },
  {
   "cell_type": "code",
   "execution_count": null,
   "metadata": {},
   "outputs": [],
   "source": [
    "# Plot sources on top of significance sky image\n",
    "images_ts['sqrt_ts'].cutout(\n",
    "    position=SkyCoord(l=184.557466192, b=-5.78434365208, unit='deg', frame='galactic'),\n",
    "    size=(3*u.deg, 4*u.deg)\n",
    ").plot(add_cbar=True)\n",
    "\n",
    "plt.gca().scatter(\n",
    "    sources['icrs_ra_peak'], sources['icrs_dec_peak'],\n",
    "    transform=plt.gca().get_transform('icrs'),\n",
    "    color='none', edgecolor='white', marker='o', s=600, lw=1.5,\n",
    ")"
   ]
  },
  {
   "cell_type": "code",
   "execution_count": null,
   "metadata": {
    "collapsed": true
   },
   "outputs": [],
   "source": []
  }
 ],
 "metadata": {
  "kernelspec": {
   "display_name": "Python 2",
   "language": "python",
   "name": "python2"
  },
  "language_info": {
   "codemirror_mode": {
    "name": "ipython",
    "version": 2
   },
   "file_extension": ".py",
   "mimetype": "text/x-python",
   "name": "python",
   "nbconvert_exporter": "python",
   "pygments_lexer": "ipython2",
   "version": "2.7.5"
  }
 },
 "nbformat": 4,
 "nbformat_minor": 1
}
