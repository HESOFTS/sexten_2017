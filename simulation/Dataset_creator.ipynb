{
 "cells": [
  {
   "cell_type": "code",
   "execution_count": 12,
   "metadata": {
    "scrolled": false
   },
   "outputs": [
    {
     "name": "stdout",
     "output_type": "stream",
     "text": [
      "total 0\r\n",
      "lrwxrwxrwx. 1 root      root       28 21 lug 16.57 caldb -> /usr/local/gamma/share/caldb\r\n",
      "drwxrwxr-x. 2 fermi-cta fermi-cta 276 21 lug 17.07 data\r\n"
     ]
    }
   ],
   "source": [
    "# to create link\n",
    "# sudo ln -s /usr/local/gamma/share/caldb caldb\n",
    "\n",
    "!ls -ltr dataset_test/"
   ]
  },
  {
   "cell_type": "code",
   "execution_count": 9,
   "metadata": {
    "scrolled": true
   },
   "outputs": [],
   "source": [
    "!cp sim_events_00000* dataset_test/data"
   ]
  },
  {
   "cell_type": "code",
   "execution_count": 16,
   "metadata": {
    "collapsed": true
   },
   "outputs": [],
   "source": [
    "#!cp cta_1dc/hdu-index.fits.gz dataset_test/hdu-index.fits.gz\n",
    "#!cp cta_1dc/obs-index.fits.gz dataset_test/obs-index.fits.gz"
   ]
  },
  {
   "cell_type": "code",
   "execution_count": 18,
   "metadata": {},
   "outputs": [
    {
     "name": "stdout",
     "output_type": "stream",
     "text": [
      "total 116\r\n",
      "lrwxrwxrwx. 1 root      root         28 21 lug 16.57 caldb -> /usr/local/gamma/share/caldb\r\n",
      "drwxrwxr-x. 2 fermi-cta fermi-cta   276 21 lug 17.07 data\r\n",
      "-rw-rw-r--. 1 fermi-cta fermi-cta 36724 21 lug 17.12 hdu-index.fits.gz\r\n",
      "-rw-rw-r--. 1 fermi-cta fermi-cta 78508 21 lug 17.12 obs-index.fits.gz\r\n"
     ]
    }
   ],
   "source": [
    "!ls -ltr dataset_test/"
   ]
  },
  {
   "cell_type": "code",
   "execution_count": 25,
   "metadata": {
    "collapsed": true
   },
   "outputs": [],
   "source": [
    "import gammalib\n",
    "import ctools\n",
    "import cscripts \n",
    "from astropy.io import fits \n",
    "import numpy as np"
   ]
  },
  {
   "cell_type": "code",
   "execution_count": 23,
   "metadata": {
    "collapsed": true
   },
   "outputs": [
    {
     "name": "stdout",
     "output_type": "stream",
     "text": [
      "XTENSION= 'BINTABLE'           / binary table extension                         BITPIX  =                    8 / array data type                                NAXIS   =                    2 / number of array dimensions                     NAXIS1  =                  110 / length of dimension 1                          NAXIS2  =                10038 / length of dimension 2                          PCOUNT  =                    0 / number of group parameters                     GCOUNT  =                    1 / number of groups                               TFIELDS =                    6 / number of table fields                         TTYPE1  = 'OBS_ID  '                                                            TFORM1  = 'K       '                                                            TTYPE2  = 'HDU_TYPE'                                                            TFORM2  = '6A      '                                                            TTYPE3  = 'HDU_CLASS'                                                           TFORM3  = '10A     '                                                            TTYPE4  = 'FILE_DIR'                                                            TFORM4  = '39A     '                                                            TTYPE5  = 'FILE_NAME'                                                           TFORM5  = '26A     '                                                            TTYPE6  = 'HDU_NAME'                                                            TFORM6  = '21A     '                                                            DATASET = 'CTA 1DC test data'                                                   END                                                                                                                                                                                                                                                                                                                                                                                                                                                                                                                                                                                                                                                                                                                                                                                                                                                                                                                                                                                                                                                                                                                                                                                                                                             \n"
     ]
    }
   ],
   "source": [
    "#hdu_ind = 'cta_1dc/hdu-index.fits.gz'\n",
    "\n",
    "#hdulist_hdu = fits.open(hdu_ind)\n",
    "\n",
    "#prihdr = hdulist_hdu[1].header"
   ]
  },
  {
   "cell_type": "code",
   "execution_count": 24,
   "metadata": {
    "collapsed": true
   },
   "outputs": [
    {
     "name": "stdout",
     "output_type": "stream",
     "text": [
      "Crab_like_out.xml\thdu-index.fits.gz\t      sim_events_000004.fits\r\n",
      "crab_mem.xml\t\tmake_spectrum.py\t      sim_events_000005.fits\r\n",
      "Crab_obs_out.xml\tmake_spectrum.pyc\t      sim_events_000006.fits\r\n",
      "Crab_out_sim.fits\tobservation_definition.ipynb  sim_events_000007.fits\r\n",
      "crab.xml\t\tobs-index.fits.gz\t      sim_events_000008.fits\r\n",
      "csobsdef.log\t\tobs_test.csv\t\t      sim_events_000009.fits\r\n",
      "cta_1dc\t\t\tout_csobsdef.xml\t      simulation_disk.ipynb\r\n",
      "Dataset_creator.ipynb\tsim_events_000001.fits\t      simulation_mem.ipynb\r\n",
      "dataset_test\t\tsim_events_000002.fits\r\n",
      "Gammapy Analysis.ipynb\tsim_events_000003.fits\r\n"
     ]
    }
   ],
   "source": [
    "!ls"
   ]
  },
  {
   "cell_type": "code",
   "execution_count": 41,
   "metadata": {},
   "outputs": [],
   "source": [
    "obs_ind = 'cta_1dc/hdu-index.fits.gz'\n",
    "hdulist_obs = fits.open(obs_ind)\n",
    "paste_header_hdu = hdulist_obs[1].header\n",
    "\n",
    "paste_header_hdu['DATASET'] = \"Dataset for the Sexten School\"\n",
    "#create columns\n",
    "\n",
    "# count the number of sim_events_000*'fits files\n",
    "obs_number = 9\n",
    "\n",
    "data_1_hdu = np.array([[i]*6 for i in range(1,obs_number+1)]).reshape(6*obs_number)\n",
    "\n",
    "temp_2 = ['events','gti','aeff','edisp','psf','bkg']\n",
    "data_2_hdu = np.array([temp_2 for i in range(1,obs_number+1)]).reshape(6*obs_number)\n",
    "\n",
    "temp_3 = ['events','gti','aeff_2d','edisp_2d','psf_3gauss','bkg_3d']\n",
    "data_3_hdu = np.array([temp_3 for i in range(1,obs_number+1)]).reshape(6*obs_number)\n",
    "\n",
    "temp_4 = ['data']*2\n",
    "temp_4.extend([\"caldb/data/cta/prod2/bcf/South_50h\"]*4)\n",
    "data_4_hdu = np.array([temp_4 for i in range(1,obs_number+1)]).reshape(6*obs_number)\n",
    "\n",
    "\n",
    "temp_5 = ['irf_file.fits']*4\n",
    "data_5_hdu = np.array([[\"sim_events_\"+str(i).rjust(6,'0') +\".fits\"] *2 + temp_5 for i in range(1,obs_number+1)]).reshape(6*obs_number)\n",
    "\n",
    "temp_6 = ['EVENTS','EVENTS','EFFECTIVE AREA','ENERGY DISPERSION','POINT SPREAD FUNCTION','BACKGROUND']\n",
    "data_6_hdu = np.array([temp_6 for i in range(1,obs_number+1)]).reshape(6*obs_number)\n",
    "\n",
    "\n",
    "col1_hdu = fits.Column(name='OBS_ID', format='K', array=data_1_hdu)\n",
    "col2_hdu = fits.Column(name='HDU_TYPE', format='6A', array=data_2_hdu)\n",
    "col3_hdu = fits.Column(name='HDU_CLASS', format='10A', array=data_3_hdu)\n",
    "col4_hdu = fits.Column(name='FILE_DIR', format='39A', array=data_4_hdu)\n",
    "col5_hdu = fits.Column(name='FILE_NAME', format='26A', array=data_5_hdu)\n",
    "col6_hdu = fits.Column(name='HDU_NAME', format='21A', array=data_6_hdu)\n",
    "\n",
    "cols_hdu = fits.ColDefs([col1_hdu, col2_hdu, col3_hdu, col4_hdu, col5_hdu, col6_hdu])\n",
    "tbhdu_hdu = fits.BinTableHDU.from_columns(cols_hdu, header = paste_header_hdu)\n",
    "\n",
    "prihdr_hdu = fits.Header()\n",
    "prihdu_hdu = fits.PrimaryHDU(header=prihdr_hdu)\n",
    "\n",
    "thdulist_hdu = fits.HDUList([prihdu_hdu, tbhdu_hdu])\n",
    "\n",
    "fitsname_hdu = \"dataset_test/hdu-index.fits.gz\"\n",
    "\n",
    "thdulist_hdu.writeto(fitsname_hdu , clobber=True)"
   ]
  },
  {
   "cell_type": "code",
   "execution_count": 34,
   "metadata": {},
   "outputs": [
    {
     "name": "stdout",
     "output_type": "stream",
     "text": [
      "total 432\r\n",
      "-rw-rw-r--. 1 fermi-cta fermi-cta 48960 21 lug 17.07 sim_events_000002.fits\r\n",
      "-rw-rw-r--. 1 fermi-cta fermi-cta 48960 21 lug 17.07 sim_events_000001.fits\r\n",
      "-rw-rw-r--. 1 fermi-cta fermi-cta 48960 21 lug 17.07 sim_events_000008.fits\r\n",
      "-rw-rw-r--. 1 fermi-cta fermi-cta 48960 21 lug 17.07 sim_events_000007.fits\r\n",
      "-rw-rw-r--. 1 fermi-cta fermi-cta 48960 21 lug 17.07 sim_events_000006.fits\r\n",
      "-rw-rw-r--. 1 fermi-cta fermi-cta 48960 21 lug 17.07 sim_events_000005.fits\r\n",
      "-rw-rw-r--. 1 fermi-cta fermi-cta 48960 21 lug 17.07 sim_events_000004.fits\r\n",
      "-rw-rw-r--. 1 fermi-cta fermi-cta 48960 21 lug 17.07 sim_events_000003.fits\r\n",
      "-rw-rw-r--. 1 fermi-cta fermi-cta 48960 21 lug 17.07 sim_events_000009.fits\r\n"
     ]
    }
   ],
   "source": [
    "!ls -ltr dataset_test/data/"
   ]
  },
  {
   "cell_type": "code",
   "execution_count": 55,
   "metadata": {},
   "outputs": [
    {
     "name": "stdout",
     "output_type": "stream",
     "text": [
      "ColDefs(\n",
      "    name = 'OBS_ID'; format = 'K'\n",
      "    name = 'RA_PNT'; format = 'D'\n",
      "    name = 'DEC_PNT'; format = 'D'\n",
      "    name = 'GLON_PNT'; format = 'D'\n",
      "    name = 'GLAT_PNT'; format = 'D'\n",
      "    name = 'ZEN_PNT'; format = 'D'\n",
      "    name = 'ALT_PNT'; format = 'D'\n",
      "    name = 'AZ_PNT'; format = 'K'\n",
      "    name = 'ONTIME'; format = 'D'\n",
      "    name = 'LIVETIME'; format = 'D'\n",
      "    name = 'DEADC'; format = 'D'\n",
      "    name = 'TSTART'; format = 'D'\n",
      "    name = 'TSTOP'; format = 'D'\n",
      "    name = 'DATE_OBS'; format = '10A'\n",
      "    name = 'TIME_OBS'; format = '8A'\n",
      "    name = 'DATE_END'; format = '10A'\n",
      "    name = 'TIME_END'; format = '8A'\n",
      "    name = 'EVENTS_FILENAME'; format = '43A'\n",
      "    name = 'EVENT_COUNT'; format = 'K'\n",
      "    name = 'EVENT_TIME_MIN'; format = 'D'\n",
      "    name = 'EVENT_TIME_MAX'; format = 'D'\n",
      "    name = 'EVENT_ENERGY_MIN'; format = 'E'\n",
      "    name = 'EVENT_ENERGY_MAX'; format = 'E'\n",
      ")\n"
     ]
    }
   ],
   "source": [
    "obs_ind = 'cta_1dc/obs-index.fits.gz'\n",
    "hdulist_obs = fits.open(obs_ind)\n",
    "paste_header_hdu = hdulist_obs[1].header\n",
    "paste_header_hdu['DATASET'] = \"Dataset for the Sexten School\"\n",
    "\n",
    "print hdulist_obs[1].columns"
   ]
  },
  {
   "cell_type": "code",
   "execution_count": 53,
   "metadata": {},
   "outputs": [
    {
     "name": "stdout",
     "output_type": "stream",
     "text": [
      "<astropy.io.fits.hdu.image.PrimaryHDU object at 0x5b62d90>\n"
     ]
    }
   ],
   "source": [
    "#create columns\n",
    "\n",
    "# count the number of sim_events_000*'fits files\n",
    "obs_number = 9\n",
    "\n",
    "data_1_hdu = np.array([[i]*6 for i in range(1,obs_number+1)]).reshape(6*obs_number)\n",
    "\n",
    "temp_2 = ['events','gti','aeff','edisp','psf','bkg']\n",
    "data_2_hdu = np.array([temp_2 for i in range(1,obs_number+1)]).reshape(6*obs_number)\n",
    "\n",
    "\n",
    "col1_hdu = fits.Column(name='OBS_ID', format='K', array=data_1_hdu)\n",
    "\n",
    "\n",
    "cols_hdu = fits.ColDefs([col1_hdu])#, col2_hdu, col3_hdu, col4_hdu, col5_hdu, col6_hdu])\n",
    "tbhdu_hdu = fits.BinTableHDU.from_columns(cols_hdu, header = paste_header_hdu)\n",
    "\n",
    "prihdr_hdu = fits.Header()\n",
    "prihdu_hdu = fits.PrimaryHDU(header=prihdr_hdu)\n",
    "print(prihdu_hdu)\n",
    "\n",
    "thdulist_hdu = fits.HDUList([prihdu_hdu, tbhdu_hdu])\n",
    "\n",
    "fitsname_hdu = \"dataset_test/obs-index.fits.gz\"\n",
    "\n",
    "thdulist_hdu.writeto(fitsname_hdu , clobber=True)"
   ]
  },
  {
   "cell_type": "code",
   "execution_count": 49,
   "metadata": {},
   "outputs": [
    {
     "name": "stdout",
     "output_type": "stream",
     "text": [
      "/home/fermi-cta/Documents/sexten_2017/simulation\r\n"
     ]
    }
   ],
   "source": [
    "!pwd"
   ]
  },
  {
   "cell_type": "code",
   "execution_count": null,
   "metadata": {
    "collapsed": true
   },
   "outputs": [],
   "source": []
  }
 ],
 "metadata": {
  "kernelspec": {
   "display_name": "Python 2",
   "language": "python",
   "name": "python2"
  },
  "language_info": {
   "codemirror_mode": {
    "name": "ipython",
    "version": 2
   },
   "file_extension": ".py",
   "mimetype": "text/x-python",
   "name": "python",
   "nbconvert_exporter": "python",
   "pygments_lexer": "ipython2",
   "version": "2.7.5"
  }
 },
 "nbformat": 4,
 "nbformat_minor": 2
}
