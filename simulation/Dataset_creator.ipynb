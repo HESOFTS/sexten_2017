{
 "cells": [
  {
   "cell_type": "markdown",
   "metadata": {},
   "source": [
    "## With this notebook you can create a dataset similar to the cta_1dc inside $GAMMAPY_EXTRA/test_datasets/cta_1dc."
   ]
  },
  {
   "cell_type": "markdown",
   "metadata": {},
   "source": [
    "**NOTE**: The notebook uses the simulated data from the [simulation_disk.ipynb](simulation_disk.ipynb) notebook. REMEMBER to simulate the data using that notebook before using this one.\n",
    "\n",
    "\n",
    "This notebook just uses to simulated data to create the proper fits files (obs-index.fits.gz and hdu-index.fits.gz).\n",
    "\n",
    "The default name for the simulated data is sim\\_events\\_######.fits, where # is a number. So **PLEASE** use this naming convention, otherwise this notebook won't work."
   ]
  },
  {
   "cell_type": "code",
   "execution_count": 1,
   "metadata": {},
   "outputs": [
    {
     "name": "stdout",
     "output_type": "stream",
     "text": [
      "mkdir: cannot create directory ‘dataset_test’: File exists\n",
      "mkdir: cannot create directory ‘dataset_test/data’: File exists\n",
      "total 8\n",
      "drwxr-xr-x. 3 fermi-cta fermi-cta   18 25 lug 12.40 caldb\n",
      "-rw-rw-r--. 1 fermi-cta fermi-cta  913 26 lug 16.04 hdu-index.fits.gz\n",
      "-rw-rw-r--. 1 fermi-cta fermi-cta 1052 26 lug 16.04 obs-index.fits.gz\n",
      "drwxrwxr-x. 2 fermi-cta fermi-cta  276 26 lug 19.49 data\n"
     ]
    }
   ],
   "source": [
    "!mkdir dataset_test\n",
    "!mkdir dataset_test/data\n",
    "!cp -r $CALDB dataset_test/\n",
    "!ls -ltr dataset_test/"
   ]
  },
  {
   "cell_type": "markdown",
   "metadata": {},
   "source": [
    "#### Copy simulated data with the [notebook](simulation_disk.ipynb) into the folder dataset_test/data"
   ]
  },
  {
   "cell_type": "code",
   "execution_count": 2,
   "metadata": {
    "collapsed": true,
    "scrolled": true
   },
   "outputs": [],
   "source": [
    "!cp sim_events_00000* dataset_test/data"
   ]
  },
  {
   "cell_type": "markdown",
   "metadata": {},
   "source": [
    "We just rename some files so that they can be used with the gammapy notebook."
   ]
  },
  {
   "cell_type": "code",
   "execution_count": 3,
   "metadata": {
    "collapsed": true
   },
   "outputs": [],
   "source": [
    "%%bash\n",
    "cp dataset_test/caldb/data/cta/prod2/bcf/North_0.5h/irf_file.fits.gz dataset_test/caldb/data/cta/prod2/bcf/North_0.5h/irf_file.fits \n",
    "cp dataset_test/caldb/data/cta/prod2/bcf/North_5h/irf_file.fits.gz dataset_test/caldb/data/cta/prod2/bcf/North_5h/irf_file.fits \n",
    "cp dataset_test/caldb/data/cta/prod2/bcf/North_50h/irf_file.fits.gz dataset_test/caldb/data/cta/prod2/bcf/North_50h/irf_file.fits \n",
    "cp dataset_test/caldb/data/cta/prod2/bcf/South_0.5h/irf_file.fits.gz dataset_test/caldb/data/cta/prod2/bcf/South_0.5h/irf_file.fits \n",
    "cp dataset_test/caldb/data/cta/prod2/bcf/South_5h/irf_file.fits.gz dataset_test/caldb/data/cta/prod2/bcf/South_5h/irf_file.fits \n",
    "cp dataset_test/caldb/data/cta/prod2/bcf/South_50h/irf_file.fits.gz dataset_test/caldb/data/cta/prod2/bcf/South_50h/irf_file.fits \n"
   ]
  },
  {
   "cell_type": "code",
   "execution_count": 4,
   "metadata": {},
   "outputs": [
    {
     "name": "stdout",
     "output_type": "stream",
     "text": [
      "dataset_test/caldb/data/cta/prod2/bcf/North_0.5h:\r\n",
      "total 800\r\n",
      "-rw-r--r--. 1 fermi-cta fermi-cta 406879 27 lug 00.14 irf_file.fits\r\n",
      "-rw-r--r--. 1 fermi-cta fermi-cta 406879 27 lug 00.13 irf_file.fits.gz\r\n",
      "\r\n",
      "dataset_test/caldb/data/cta/prod2/bcf/North_50h:\r\n",
      "total 784\r\n",
      "-rw-r--r--. 1 fermi-cta fermi-cta 401149 27 lug 00.14 irf_file.fits\r\n",
      "-rw-r--r--. 1 fermi-cta fermi-cta 401149 27 lug 00.13 irf_file.fits.gz\r\n",
      "\r\n",
      "dataset_test/caldb/data/cta/prod2/bcf/North_5h:\r\n",
      "total 792\r\n",
      "-rw-r--r--. 1 fermi-cta fermi-cta 404611 27 lug 00.14 irf_file.fits\r\n",
      "-rw-r--r--. 1 fermi-cta fermi-cta 404611 27 lug 00.13 irf_file.fits.gz\r\n",
      "\r\n",
      "dataset_test/caldb/data/cta/prod2/bcf/South_0.5h:\r\n",
      "total 800\r\n",
      "-rw-r--r--. 1 fermi-cta fermi-cta 405893 27 lug 00.14 irf_file.fits\r\n",
      "-rw-r--r--. 1 fermi-cta fermi-cta 405893 27 lug 00.13 irf_file.fits.gz\r\n",
      "\r\n",
      "dataset_test/caldb/data/cta/prod2/bcf/South_50h:\r\n",
      "total 784\r\n",
      "-rw-r--r--. 1 fermi-cta fermi-cta 399254 27 lug 00.14 irf_file.fits\r\n",
      "-rw-r--r--. 1 fermi-cta fermi-cta 399254 27 lug 00.13 irf_file.fits.gz\r\n",
      "\r\n",
      "dataset_test/caldb/data/cta/prod2/bcf/South_5h:\r\n",
      "total 792\r\n",
      "-rw-r--r--. 1 fermi-cta fermi-cta 404594 27 lug 00.14 irf_file.fits\r\n",
      "-rw-r--r--. 1 fermi-cta fermi-cta 404594 27 lug 00.13 irf_file.fits.gz\r\n"
     ]
    }
   ],
   "source": [
    "!ls -l dataset_test/caldb/data/cta/prod2/bcf/*"
   ]
  },
  {
   "cell_type": "code",
   "execution_count": 5,
   "metadata": {},
   "outputs": [
    {
     "name": "stdout",
     "output_type": "stream",
     "text": [
      "total 8\r\n",
      "drwxr-xr-x. 3 fermi-cta fermi-cta   18 25 lug 12.40 caldb\r\n",
      "drwxrwxr-x. 2 fermi-cta fermi-cta  276 26 lug 19.49 data\r\n",
      "-rw-rw-r--. 1 fermi-cta fermi-cta  913 26 lug 16.04 hdu-index.fits.gz\r\n",
      "-rw-rw-r--. 1 fermi-cta fermi-cta 1052 26 lug 16.04 obs-index.fits.gz\r\n"
     ]
    }
   ],
   "source": [
    "!ls -l dataset_test"
   ]
  },
  {
   "cell_type": "code",
   "execution_count": 6,
   "metadata": {
    "collapsed": true
   },
   "outputs": [],
   "source": [
    "import gammalib\n",
    "import ctools\n",
    "import cscripts \n",
    "\n",
    "import numpy as np\n",
    "import glob\n",
    "\n",
    "from astropy.io import fits \n",
    "from astropy import units as u\n",
    "from astropy.coordinates import SkyCoord"
   ]
  },
  {
   "cell_type": "markdown",
   "metadata": {},
   "source": [
    "#### In order to create the hdu-index.fits.gz, we use as an example the one from the $GAMMAPY_EXTRA folder."
   ]
  },
  {
   "cell_type": "code",
   "execution_count": 7,
   "metadata": {
    "collapsed": true
   },
   "outputs": [],
   "source": [
    "!cp -r $GAMMAPY_EXTRA/test_datasets/cta_1dc ."
   ]
  },
  {
   "cell_type": "code",
   "execution_count": 8,
   "metadata": {
    "collapsed": true
   },
   "outputs": [],
   "source": [
    "obs_ind = 'cta_1dc/hdu-index.fits.gz'\n",
    "hdulist_obs = fits.open(obs_ind)\n",
    "paste_header_hdu = hdulist_obs[1].header\n",
    "\n",
    "paste_header_hdu['DATASET'] = \"Dataset for the Sexten School\"\n",
    "#create columns\n",
    "\n",
    "# count the number of sim_events_000*'fits files\n",
    "obs_number = len(glob.glob('dataset_test/data/sim_events_*'))\n",
    "\n",
    "data_1_hdu = np.array([[i]*6 for i in range(1,obs_number+1)]).reshape(6*obs_number)\n",
    "\n",
    "temp_2 = ['events','gti','aeff','edisp','psf','bkg']\n",
    "data_2_hdu = np.array([temp_2 for i in range(1,obs_number+1)]).reshape(6*obs_number)\n",
    "\n",
    "temp_3 = ['events','gti','aeff_2d','edisp_2d','psf_3gauss','bkg_3d']\n",
    "data_3_hdu = np.array([temp_3 for i in range(1,obs_number+1)]).reshape(6*obs_number)\n",
    "\n",
    "temp_4 = ['data']*2\n",
    "temp_4.extend([\"caldb/data/cta/prod2/bcf/South_50h\"]*4)\n",
    "data_4_hdu = np.array([temp_4 for i in range(1,obs_number+1)]).reshape(6*obs_number)\n",
    "\n",
    "\n",
    "temp_5 = ['irf_file.fits']*4\n",
    "data_5_hdu = np.array([[\"sim_events_\"+str(i).rjust(6,'0') +\".fits\"] *2 + temp_5 for i in range(1,obs_number+1)]).reshape(6*obs_number)\n",
    "\n",
    "temp_6 = ['EVENTS','EVENTS','EFFECTIVE AREA','ENERGY DISPERSION','POINT SPREAD FUNCTION','BACKGROUND']\n",
    "data_6_hdu = np.array([temp_6 for i in range(1,obs_number+1)]).reshape(6*obs_number)\n",
    "\n",
    "\n",
    "col1_hdu = fits.Column(name='OBS_ID', format='K', array=data_1_hdu)\n",
    "col2_hdu = fits.Column(name='HDU_TYPE', format='6A', array=data_2_hdu)\n",
    "col3_hdu = fits.Column(name='HDU_CLASS', format='10A', array=data_3_hdu)\n",
    "col4_hdu = fits.Column(name='FILE_DIR', format='39A', array=data_4_hdu)\n",
    "col5_hdu = fits.Column(name='FILE_NAME', format='26A', array=data_5_hdu)\n",
    "col6_hdu = fits.Column(name='HDU_NAME', format='21A', array=data_6_hdu)\n",
    "\n",
    "cols_hdu = fits.ColDefs([col1_hdu, col2_hdu, col3_hdu, col4_hdu, col5_hdu, col6_hdu])\n",
    "tbhdu_hdu = fits.BinTableHDU.from_columns(cols_hdu, header = paste_header_hdu)\n",
    "\n",
    "prihdr_hdu = fits.Header()\n",
    "prihdu_hdu = fits.PrimaryHDU(header=prihdr_hdu)\n",
    "\n",
    "thdulist_hdu = fits.HDUList([prihdu_hdu, tbhdu_hdu])\n",
    "\n",
    "fitsname_hdu = \"dataset_test/hdu-index.fits.gz\"\n",
    "\n",
    "thdulist_hdu.writeto(fitsname_hdu , overwrite=True)"
   ]
  },
  {
   "cell_type": "code",
   "execution_count": 9,
   "metadata": {},
   "outputs": [
    {
     "name": "stdout",
     "output_type": "stream",
     "text": [
      "['OBS_ID', 'RA_PNT', 'DEC_PNT', 'GLON_PNT', 'GLAT_PNT', 'ZEN_PNT', 'ALT_PNT', 'AZ_PNT', 'ONTIME', 'LIVETIME', 'DEADC', 'TSTART', 'TSTOP', 'DATE_OBS', 'TIME_OBS', 'DATE_END', 'TIME_END', 'EVENTS_FILENAME', 'EVENT_COUNT', 'EVENT_TIME_MIN', 'EVENT_TIME_MAX', 'EVENT_ENERGY_MIN', 'EVENT_ENERGY_MAX']\n"
     ]
    }
   ],
   "source": [
    "# Print additional informations regarding the fits file\n",
    "# Just for testing purposes\n",
    "\n",
    "obs_ind = 'cta_1dc/obs-index.fits.gz'\n",
    "hdulist_obs = fits.open(obs_ind)\n",
    "paste_header_hdu = hdulist_obs[1].header\n",
    "\n",
    "print hdulist_obs[1].columns.names"
   ]
  },
  {
   "cell_type": "markdown",
   "metadata": {},
   "source": [
    "## CREATE DATASET\n",
    "### After haveing created and moved the data to the proper folder, we inspect the informations from the obs-index.fits.gz and the hdu-index.fita.gz files from the dataset taken from the gammapy-extra test-dataset/cta_1dc folder.\n"
   ]
  },
  {
   "cell_type": "code",
   "execution_count": 10,
   "metadata": {
    "collapsed": true
   },
   "outputs": [],
   "source": [
    "data, hdr = fits.getdata('cta_1dc/obs-index.fits.gz', 1, header=True)\n",
    "test_row = data[0:1]\n",
    "out_file = \"dataset_test/obs-index.fits.gz\"\n",
    "\n",
    "#fits.writeto(out_file, test_row, hdr, overwrite = True)\n",
    "\n",
    "#get number of file fits from simulations\n",
    "obs_number = len(glob.glob('dataset_test/data/sim_events_*'))\n",
    "\n",
    "# these are constant over all the data\n",
    "test_row['ZEN_PNT']  = 0.0\n",
    "test_row['ALT_PNT']  = 90.0\n",
    "test_row['AZ_PNT']   = 0.0\n",
    "out_list = []\n",
    "\n",
    "#fits.writeto(out_file, data[1:1],  hdr, overwrite = True)\n",
    "for i in range(1,obs_number+1):\n",
    "    \n",
    "    obs_name = 'data/sim_events_'+str(i).rjust(6,'0')+'.fits'\n",
    "    obs_ind = 'dataset_test/'+obs_name\n",
    "    hdulist_obs = fits.open(obs_ind)\n",
    "    paste_header_hdu = hdulist_obs[1].header\n",
    "\n",
    "    test_row['OBS_ID']           = i\n",
    "    test_row['RA_PNT']           = paste_header_hdu[\"RA_PNT\"]\n",
    "    test_row['DEC_PNT']          = paste_header_hdu[\"DEC_PNT\"]\n",
    "    c_icrs = SkyCoord(ra=float(test_row['RA_PNT'])*u.degree, dec=float(test_row['DEC_PNT'])*u.degree, frame='icrs')\n",
    "    \n",
    "    test_row['GLON_PNT']         = c_icrs.galactic.l.value\n",
    "    test_row['GLAT_PNT']         = c_icrs.galactic.b.value\n",
    "    test_row['ONTIME']           = paste_header_hdu[\"ONTIME\"]\n",
    "    test_row['LIVETIME']         = paste_header_hdu[\"LIVETIME\"]\n",
    "    test_row['DEADC']            = paste_header_hdu[\"DEADC\"]\n",
    "    test_row['TSTART']           = paste_header_hdu[\"TSTART\"]\n",
    "    test_row['TSTOP']            = paste_header_hdu[\"TSTOP\"]\n",
    "    test_row['DATE_OBS']         = paste_header_hdu[\"DATE_OBS\"]\n",
    "    test_row['TIME_OBS']         = paste_header_hdu[\"TIME_OBS\"]\n",
    "    test_row['DATE_END']         = paste_header_hdu[\"DATE_END\"]\n",
    "    test_row['TIME_END']         = paste_header_hdu[\"TIME_END\"]\n",
    "    test_row['EVENTS_FILENAME']  = obs_name\n",
    "    test_row['EVENT_COUNT']      = hdulist_obs[1].header[\"NAXIS2\"]\n",
    "    test_row['EVENT_TIME_MIN']   = test_row['TSTART']\n",
    "    test_row['EVENT_TIME_MAX']   = test_row['TSTOP']\n",
    "    test_row['EVENT_ENERGY_MIN'] = np.min(hdulist_obs[1].data['ENERGY'])\n",
    "    test_row['EVENT_ENERGY_MIN'] = np.max(hdulist_obs[1].data['ENERGY'])\n",
    "    out_list.append(test_row.tolist())\n",
    "\n",
    "test_numpy = np.array(out_list, dtype = test_row.dtype)\n",
    "fits.writeto(out_file, test_numpy, hdr, overwrite = True)"
   ]
  },
  {
   "cell_type": "code",
   "execution_count": 11,
   "metadata": {},
   "outputs": [
    {
     "name": "stdout",
     "output_type": "stream",
     "text": [
      "caldb  data  hdu-index.fits.gz\tobs-index.fits.gz\r\n"
     ]
    }
   ],
   "source": [
    "!ls dataset_test/"
   ]
  },
  {
   "cell_type": "code",
   "execution_count": 12,
   "metadata": {},
   "outputs": [
    {
     "name": "stdout",
     "output_type": "stream",
     "text": [
      "sim_events_000001.fits\tsim_events_000004.fits\tsim_events_000007.fits\r\n",
      "sim_events_000002.fits\tsim_events_000005.fits\tsim_events_000008.fits\r\n",
      "sim_events_000003.fits\tsim_events_000006.fits\tsim_events_000009.fits\r\n"
     ]
    }
   ],
   "source": [
    "!ls dataset_test/data"
   ]
  },
  {
   "cell_type": "code",
   "execution_count": null,
   "metadata": {
    "collapsed": true
   },
   "outputs": [],
   "source": []
  }
 ],
 "metadata": {
  "kernelspec": {
   "display_name": "Python 2",
   "language": "python",
   "name": "python2"
  },
  "language_info": {
   "codemirror_mode": {
    "name": "ipython",
    "version": 2
   },
   "file_extension": ".py",
   "mimetype": "text/x-python",
   "name": "python",
   "nbconvert_exporter": "python",
   "pygments_lexer": "ipython2",
   "version": "2.7.5"
  }
 },
 "nbformat": 4,
 "nbformat_minor": 2
}
