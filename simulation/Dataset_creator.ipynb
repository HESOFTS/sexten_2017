{
 "cells": [
  {
   "cell_type": "code",
   "execution_count": 1,
   "metadata": {
    "scrolled": false
   },
   "outputs": [
    {
     "name": "stdout",
     "output_type": "stream",
     "text": [
      "total 56\r\n",
      "lrwxrwxrwx. 1 root      root         28 21 lug 16.57 caldb -> /usr/local/gamma/share/caldb\r\n",
      "drwxrwxr-x. 2 fermi-cta fermi-cta   276 21 lug 17.07 data\r\n",
      "-rw-rw-r--. 1 fermi-cta fermi-cta 42438 24 lug 11.49 obs-index.fits.gz\r\n",
      "-rw-rw-r--. 1 fermi-cta fermi-cta  8640 24 lug 14.22 obs-index.fits\r\n"
     ]
    }
   ],
   "source": [
    "# to create link\n",
    "# sudo ln -s /usr/local/gamma/share/caldb caldb\n",
    "\n",
    "!ls -ltr dataset_test/"
   ]
  },
  {
   "cell_type": "code",
   "execution_count": 2,
   "metadata": {
    "collapsed": true,
    "scrolled": true
   },
   "outputs": [],
   "source": [
    "!cp sim_events_00000* dataset_test/data"
   ]
  },
  {
   "cell_type": "code",
   "execution_count": 3,
   "metadata": {
    "collapsed": true
   },
   "outputs": [],
   "source": [
    "#!cp cta_1dc/hdu-index.fits.gz dataset_test/hdu-index.fits.gz\n",
    "#!cp cta_1dc/obs-index.fits.gz dataset_test/obs-index.fits.gz"
   ]
  },
  {
   "cell_type": "code",
   "execution_count": 4,
   "metadata": {},
   "outputs": [
    {
     "name": "stdout",
     "output_type": "stream",
     "text": [
      "total 56\r\n",
      "lrwxrwxrwx. 1 root      root         28 21 lug 16.57 caldb -> /usr/local/gamma/share/caldb\r\n",
      "drwxrwxr-x. 2 fermi-cta fermi-cta   276 21 lug 17.07 data\r\n",
      "-rw-rw-r--. 1 fermi-cta fermi-cta 42438 24 lug 11.49 obs-index.fits.gz\r\n",
      "-rw-rw-r--. 1 fermi-cta fermi-cta  8640 24 lug 14.22 obs-index.fits\r\n"
     ]
    }
   ],
   "source": [
    "!ls -ltr dataset_test/"
   ]
  },
  {
   "cell_type": "code",
   "execution_count": 6,
   "metadata": {
    "collapsed": true
   },
   "outputs": [
    {
     "name": "stdout",
     "output_type": "stream",
     "text": [
      "total 432\r\n",
      "-rw-rw-r--. 1 fermi-cta fermi-cta 48960 24 lug 14.23 sim_events_000004.fits\r\n",
      "-rw-rw-r--. 1 fermi-cta fermi-cta 48960 24 lug 14.23 sim_events_000003.fits\r\n",
      "-rw-rw-r--. 1 fermi-cta fermi-cta 48960 24 lug 14.23 sim_events_000002.fits\r\n",
      "-rw-rw-r--. 1 fermi-cta fermi-cta 48960 24 lug 14.23 sim_events_000001.fits\r\n",
      "-rw-rw-r--. 1 fermi-cta fermi-cta 48960 24 lug 14.23 sim_events_000007.fits\r\n",
      "-rw-rw-r--. 1 fermi-cta fermi-cta 48960 24 lug 14.23 sim_events_000006.fits\r\n",
      "-rw-rw-r--. 1 fermi-cta fermi-cta 48960 24 lug 14.23 sim_events_000005.fits\r\n",
      "-rw-rw-r--. 1 fermi-cta fermi-cta 48960 24 lug 14.23 sim_events_000009.fits\r\n",
      "-rw-rw-r--. 1 fermi-cta fermi-cta 48960 24 lug 14.23 sim_events_000008.fits\r\n"
     ]
    }
   ],
   "source": [
    "!ls -ltr dataset_test/data/"
   ]
  },
  {
   "cell_type": "code",
   "execution_count": 7,
   "metadata": {
    "collapsed": true
   },
   "outputs": [],
   "source": [
    "import gammalib\n",
    "import ctools\n",
    "import cscripts \n",
    "from astropy.io import fits \n",
    "import numpy as np"
   ]
  },
  {
   "cell_type": "code",
   "execution_count": null,
   "metadata": {
    "collapsed": true
   },
   "outputs": [],
   "source": [
    "#hdu_ind = 'cta_1dc/hdu-index.fits.gz'\n",
    "\n",
    "#hdulist_hdu = fits.open(hdu_ind)\n",
    "\n",
    "#prihdr = hdulist_hdu[1].header"
   ]
  },
  {
   "cell_type": "code",
   "execution_count": null,
   "metadata": {
    "collapsed": true
   },
   "outputs": [],
   "source": [
    "!ls"
   ]
  },
  {
   "cell_type": "code",
   "execution_count": null,
   "metadata": {},
   "outputs": [],
   "source": [
    "obs_ind = 'cta_1dc/hdu-index.fits.gz'\n",
    "hdulist_obs = fits.open(obs_ind)\n",
    "paste_header_hdu = hdulist_obs[1].header\n",
    "\n",
    "paste_header_hdu['DATASET'] = \"Dataset for the Sexten School\"\n",
    "#create columns\n",
    "\n",
    "# count the number of sim_events_000*'fits files\n",
    "obs_number = 9\n",
    "\n",
    "data_1_hdu = np.array([[i]*6 for i in range(1,obs_number+1)]).reshape(6*obs_number)\n",
    "\n",
    "temp_2 = ['events','gti','aeff','edisp','psf','bkg']\n",
    "data_2_hdu = np.array([temp_2 for i in range(1,obs_number+1)]).reshape(6*obs_number)\n",
    "\n",
    "temp_3 = ['events','gti','aeff_2d','edisp_2d','psf_3gauss','bkg_3d']\n",
    "data_3_hdu = np.array([temp_3 for i in range(1,obs_number+1)]).reshape(6*obs_number)\n",
    "\n",
    "temp_4 = ['data']*2\n",
    "temp_4.extend([\"caldb/data/cta/prod2/bcf/South_50h\"]*4)\n",
    "data_4_hdu = np.array([temp_4 for i in range(1,obs_number+1)]).reshape(6*obs_number)\n",
    "\n",
    "\n",
    "temp_5 = ['irf_file.fits']*4\n",
    "data_5_hdu = np.array([[\"sim_events_\"+str(i).rjust(6,'0') +\".fits\"] *2 + temp_5 for i in range(1,obs_number+1)]).reshape(6*obs_number)\n",
    "\n",
    "temp_6 = ['EVENTS','EVENTS','EFFECTIVE AREA','ENERGY DISPERSION','POINT SPREAD FUNCTION','BACKGROUND']\n",
    "data_6_hdu = np.array([temp_6 for i in range(1,obs_number+1)]).reshape(6*obs_number)\n",
    "\n",
    "\n",
    "col1_hdu = fits.Column(name='OBS_ID', format='K', array=data_1_hdu)\n",
    "col2_hdu = fits.Column(name='HDU_TYPE', format='6A', array=data_2_hdu)\n",
    "col3_hdu = fits.Column(name='HDU_CLASS', format='10A', array=data_3_hdu)\n",
    "col4_hdu = fits.Column(name='FILE_DIR', format='39A', array=data_4_hdu)\n",
    "col5_hdu = fits.Column(name='FILE_NAME', format='26A', array=data_5_hdu)\n",
    "col6_hdu = fits.Column(name='HDU_NAME', format='21A', array=data_6_hdu)\n",
    "\n",
    "cols_hdu = fits.ColDefs([col1_hdu, col2_hdu, col3_hdu, col4_hdu, col5_hdu, col6_hdu])\n",
    "tbhdu_hdu = fits.BinTableHDU.from_columns(cols_hdu, header = paste_header_hdu)\n",
    "\n",
    "prihdr_hdu = fits.Header()\n",
    "prihdu_hdu = fits.PrimaryHDU(header=prihdr_hdu)\n",
    "\n",
    "thdulist_hdu = fits.HDUList([prihdu_hdu, tbhdu_hdu])\n",
    "\n",
    "fitsname_hdu = \"dataset_test/hdu-index.fits.gz\"\n",
    "\n",
    "thdulist_hdu.writeto(fitsname_hdu , overwrite=True)"
   ]
  },
  {
   "cell_type": "code",
   "execution_count": null,
   "metadata": {
    "collapsed": true
   },
   "outputs": [],
   "source": [
    "!ls -ltr dataset_test/data/"
   ]
  },
  {
   "cell_type": "code",
   "execution_count": null,
   "metadata": {
    "collapsed": true
   },
   "outputs": [],
   "source": [
    "obs_ind = 'cta_1dc/obs-index.fits.gz'\n",
    "hdulist_obs = fits.open(obs_ind)\n",
    "paste_header_hdu = hdulist_obs[1].header\n",
    "\n",
    "print hdulist_obs[1].columns.names\n",
    "#print hdulist_obs[1]\n"
   ]
  },
  {
   "cell_type": "code",
   "execution_count": null,
   "metadata": {},
   "outputs": [],
   "source": [
    "#Vedi quali di queste keywords sono dentro ai .fits uscito dalla simulazione e ricrea il file obs-index.fits.gz \n",
    "obs_ind = 'cta_1dc/data/baseline/gc/gc_baseline_000659.fits.gz'\n",
    "hdulist_obs = fits.open(obs_ind)\n",
    "paste_header_hdu = hdulist_obs[1].header\n",
    "\n",
    "#print paste_header_hdu[\"GLON_PNT\"]\n",
    "print hdulist_obs[1].columns.names"
   ]
  },
  {
   "cell_type": "code",
   "execution_count": null,
   "metadata": {
    "collapsed": true
   },
   "outputs": [],
   "source": [
    "obs_ind = 'dataset_test/data/sim_events_000001.fits'\n",
    "hdulist_obs = fits.open(obs_ind)\n",
    "paste_header_hdu = hdulist_obs[1].header\n",
    "\n",
    "print paste_header_hdu"
   ]
  },
  {
   "cell_type": "markdown",
   "metadata": {},
   "source": [
    "## CREATE DATASET"
   ]
  },
  {
   "cell_type": "code",
   "execution_count": 135,
   "metadata": {
    "collapsed": true
   },
   "outputs": [
    {
     "name": "stdout",
     "output_type": "stream",
     "text": [
      "[ (1,  266.59631348, -29.6233,  359.50004497, -0.50003721,  0.,  90., 0,  1800.,  1710.,  0.94999999,   6.62774400e+08,   6.62776192e+08, '2021-01-01', '11:58:51', '2021-01-01', '12:28:51', 'data/baseline/gc/gc_baseline_000001.fits.gz', 140265,   6.62774400e+08,   6.62776200e+08,  0.03000053,  117.08042145)]\n"
     ]
    }
   ],
   "source": [
    "#Create empty fits file\n",
    "\n",
    "data, hdr = fits.getdata('obs-index.fits.gz', 1, header=True)\n",
    "test_row = data[0:1]\n",
    "out_file = \"dataset_test/obs-index.fits\"\n",
    "\n",
    "fits.writeto(out_file, test_row, hdr, overwrite = True)\n",
    "\n",
    "obs_number = 9\n",
    "\n",
    "test_row['GLON_PNT'] = 0.\n",
    "test_row['GLAT_PNT'] = 0.\n",
    "test_row['ZEN_PNT']  = 0.0\n",
    "test_row['ALT_PNT']  = 90.0\n",
    "test_row['AZ_PNT']   = 0.0\n",
    "out_list = []\n",
    "\n",
    "#fits.writeto(out_file, data[1:1],  hdr, overwrite = True)\n",
    "for i in range(1,obs_number+1):\n",
    "    \n",
    "    obs_name = 'data/sim_events_'+str(i).rjust(6,'0')+'.fits'\n",
    "    obs_ind = 'dataset_test/'+obs_name\n",
    "    hdulist_obs = fits.open(obs_ind)\n",
    "    paste_header_hdu = hdulist_obs[1].header\n",
    "\n",
    "    #print paste_header_hdu[\"GLON_PNT\"]\n",
    "\n",
    "    test_row['OBS_ID']           = i\n",
    "    test_row['RA_PNT']           = paste_header_hdu[\"RA_PNT\"]\n",
    "    test_row['DEC_PNT']          = paste_header_hdu[\"DEC_PNT\"]\n",
    "    test_row['ONTIME']           = paste_header_hdu[\"ONTIME\"]\n",
    "    test_row['LIVETIME']         = paste_header_hdu[\"LIVETIME\"]\n",
    "    test_row['DEADC']            = paste_header_hdu[\"DEADC\"]\n",
    "    test_row['TSTART']           = paste_header_hdu[\"TSTART\"]\n",
    "    test_row['TSTOP']            = paste_header_hdu[\"TSTOP\"]\n",
    "    test_row['DATE_OBS']         = paste_header_hdu[\"DATE_OBS\"]\n",
    "    test_row['TIME_OBS']         = paste_header_hdu[\"TIME_OBS\"]\n",
    "    test_row['DATE_END']         = paste_header_hdu[\"DATE_END\"]\n",
    "    test_row['TIME_END']         = paste_header_hdu[\"TIME_END\"]\n",
    "    test_row['EVENTS_FILENAME']  = obs_name\n",
    "    test_row['EVENT_COUNT']      = hdulist_obs[1].header[\"NAXIS2\"]\n",
    "    test_row['EVENT_TIME_MIN']   = test_row['TSTART']\n",
    "    test_row['EVENT_TIME_MAX']   = test_row['TSTOP']\n",
    "    test_row['EVENT_ENERGY_MIN'] = np.min(hdulist_obs[1].data['ENERGY'])\n",
    "    test_row['EVENT_ENERGY_MIN'] = np.max(hdulist_obs[1].data['ENERGY'])\n",
    "    out_list.append(test_row.tolist())\n",
    "    #print(test_row.dtype)\n",
    "    #fits.update(out_file, test_row, 1)\n",
    "    #fits.writeto(out_file, test_row, hdr, overwrite = True)\n",
    "    #data_write.append([(OBS_ID, RA_PNT, DEC_PNT, GLON_PNT, GLAT_PNT, ZEN_PNT, ALT_PNT, AZ_PNT, ONTIME, LIVETIME, DEADC, TSTART, TSTOP, DATE_OBS, TIME_OBS, DATE_END, TIME_END, EVENTS_FILENAME, EVENT_COUNT, EVENT_TIME_MIN, EVENT_TIME_MAX, EVENT_ENERGY_MIN, EVENT_ENERGY_MAX)])\n",
    "\n",
    "test_numpy = np.array(out_list, dtype = test_row.dtype)\n",
    "fits.writeto(out_file, test_numpy, hdr, overwrite = True)"
   ]
  }
 ],
 "metadata": {
  "kernelspec": {
   "display_name": "Python 2",
   "language": "python",
   "name": "python2"
  },
  "language_info": {
   "codemirror_mode": {
    "name": "ipython",
    "version": 2
   },
   "file_extension": ".py",
   "mimetype": "text/x-python",
   "name": "python",
   "nbconvert_exporter": "python",
   "pygments_lexer": "ipython2",
   "version": "2.7.5"
  }
 },
 "nbformat": 4,
 "nbformat_minor": 2
}
