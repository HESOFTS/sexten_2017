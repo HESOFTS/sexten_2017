{
 "cells": [
  {
   "cell_type": "code",
   "execution_count": 1,
   "metadata": {
    "scrolled": false
   },
   "outputs": [
    {
     "name": "stdout",
     "output_type": "stream",
     "text": [
      "total 8\r\n",
      "lrwxrwxrwx. 1 root      root       28 21 lug 16.57 caldb -> /usr/local/gamma/share/caldb\r\n",
      "drwxrwxr-x. 2 fermi-cta fermi-cta 276 21 lug 17.07 data\r\n",
      "-rw-rw-r--. 1 fermi-cta fermi-cta 913 21 lug 18.44 hdu-index.fits.gz\r\n",
      "-rw-rw-r--. 1 fermi-cta fermi-cta 446 21 lug 19.21 obs-index.fits.gz\r\n"
     ]
    }
   ],
   "source": [
    "# to create link\n",
    "# sudo ln -s /usr/local/gamma/share/caldb caldb\n",
    "\n",
    "!ls -ltr dataset_test/"
   ]
  },
  {
   "cell_type": "code",
   "execution_count": 2,
   "metadata": {
    "collapsed": true,
    "scrolled": true
   },
   "outputs": [],
   "source": [
    "!cp sim_events_00000* dataset_test/data"
   ]
  },
  {
   "cell_type": "code",
   "execution_count": null,
   "metadata": {
    "collapsed": true
   },
   "outputs": [],
   "source": [
    "#!cp cta_1dc/hdu-index.fits.gz dataset_test/hdu-index.fits.gz\n",
    "#!cp cta_1dc/obs-index.fits.gz dataset_test/obs-index.fits.gz"
   ]
  },
  {
   "cell_type": "code",
   "execution_count": 5,
   "metadata": {},
   "outputs": [
    {
     "name": "stdout",
     "output_type": "stream",
     "text": [
      "total 8\r\n",
      "lrwxrwxrwx. 1 root      root       28 21 lug 16.57 caldb -> /usr/local/gamma/share/caldb\r\n",
      "drwxrwxr-x. 2 fermi-cta fermi-cta 276 21 lug 17.07 data\r\n",
      "-rw-rw-r--. 1 fermi-cta fermi-cta 913 21 lug 18.44 hdu-index.fits.gz\r\n",
      "-rw-rw-r--. 1 fermi-cta fermi-cta 446 21 lug 19.21 obs-index.fits.gz\r\n"
     ]
    }
   ],
   "source": [
    "!ls -ltr dataset_test/"
   ]
  },
  {
   "cell_type": "code",
   "execution_count": 6,
   "metadata": {
    "collapsed": true
   },
   "outputs": [],
   "source": [
    "import gammalib\n",
    "import ctools\n",
    "import cscripts \n",
    "from astropy.io import fits \n",
    "import numpy as np"
   ]
  },
  {
   "cell_type": "code",
   "execution_count": null,
   "metadata": {
    "collapsed": true
   },
   "outputs": [],
   "source": [
    "#hdu_ind = 'cta_1dc/hdu-index.fits.gz'\n",
    "\n",
    "#hdulist_hdu = fits.open(hdu_ind)\n",
    "\n",
    "#prihdr = hdulist_hdu[1].header"
   ]
  },
  {
   "cell_type": "code",
   "execution_count": 7,
   "metadata": {
    "collapsed": true
   },
   "outputs": [
    {
     "name": "stdout",
     "output_type": "stream",
     "text": [
      "Crab_like_out.xml\thdu-index.fits.gz\t      sim_events_000003.fits\r\n",
      "crab_mem.xml\t\tmake_spectrum.py\t      sim_events_000004.fits\r\n",
      "Crab_obs_out.xml\tmake_spectrum.pyc\t      sim_events_000005.fits\r\n",
      "Crab_out_sim.fits\tobservation_definition.ipynb  sim_events_000006.fits\r\n",
      "crab.xml\t\tobs-index.fits.gz\t      sim_events_000007.fits\r\n",
      "cta_1dc\t\t\tobs_test.csv\t\t      sim_events_000008.fits\r\n",
      "Dataset_creator.ipynb\tout_csobsdef.xml\t      sim_events_000009.fits\r\n",
      "dataset_test\t\tsim_events_000001.fits\t      simulation_disk.ipynb\r\n",
      "Gammapy Analysis.ipynb\tsim_events_000002.fits\t      simulation_mem.ipynb\r\n"
     ]
    }
   ],
   "source": [
    "!ls"
   ]
  },
  {
   "cell_type": "code",
   "execution_count": null,
   "metadata": {
    "collapsed": true
   },
   "outputs": [],
   "source": [
    "obs_ind = 'cta_1dc/hdu-index.fits.gz'\n",
    "hdulist_obs = fits.open(obs_ind)\n",
    "paste_header_hdu = hdulist_obs[1].header\n",
    "\n",
    "paste_header_hdu['DATASET'] = \"Dataset for the Sexten School\"\n",
    "#create columns\n",
    "\n",
    "# count the number of sim_events_000*'fits files\n",
    "obs_number = 9\n",
    "\n",
    "data_1_hdu = np.array([[i]*6 for i in range(1,obs_number+1)]).reshape(6*obs_number)\n",
    "\n",
    "temp_2 = ['events','gti','aeff','edisp','psf','bkg']\n",
    "data_2_hdu = np.array([temp_2 for i in range(1,obs_number+1)]).reshape(6*obs_number)\n",
    "\n",
    "temp_3 = ['events','gti','aeff_2d','edisp_2d','psf_3gauss','bkg_3d']\n",
    "data_3_hdu = np.array([temp_3 for i in range(1,obs_number+1)]).reshape(6*obs_number)\n",
    "\n",
    "temp_4 = ['data']*2\n",
    "temp_4.extend([\"caldb/data/cta/prod2/bcf/South_50h\"]*4)\n",
    "data_4_hdu = np.array([temp_4 for i in range(1,obs_number+1)]).reshape(6*obs_number)\n",
    "\n",
    "\n",
    "temp_5 = ['irf_file.fits']*4\n",
    "data_5_hdu = np.array([[\"sim_events_\"+str(i).rjust(6,'0') +\".fits\"] *2 + temp_5 for i in range(1,obs_number+1)]).reshape(6*obs_number)\n",
    "\n",
    "temp_6 = ['EVENTS','EVENTS','EFFECTIVE AREA','ENERGY DISPERSION','POINT SPREAD FUNCTION','BACKGROUND']\n",
    "data_6_hdu = np.array([temp_6 for i in range(1,obs_number+1)]).reshape(6*obs_number)\n",
    "\n",
    "\n",
    "col1_hdu = fits.Column(name='OBS_ID', format='K', array=data_1_hdu)\n",
    "col2_hdu = fits.Column(name='HDU_TYPE', format='6A', array=data_2_hdu)\n",
    "col3_hdu = fits.Column(name='HDU_CLASS', format='10A', array=data_3_hdu)\n",
    "col4_hdu = fits.Column(name='FILE_DIR', format='39A', array=data_4_hdu)\n",
    "col5_hdu = fits.Column(name='FILE_NAME', format='26A', array=data_5_hdu)\n",
    "col6_hdu = fits.Column(name='HDU_NAME', format='21A', array=data_6_hdu)\n",
    "\n",
    "cols_hdu = fits.ColDefs([col1_hdu, col2_hdu, col3_hdu, col4_hdu, col5_hdu, col6_hdu])\n",
    "tbhdu_hdu = fits.BinTableHDU.from_columns(cols_hdu, header = paste_header_hdu)\n",
    "\n",
    "prihdr_hdu = fits.Header()\n",
    "prihdu_hdu = fits.PrimaryHDU(header=prihdr_hdu)\n",
    "\n",
    "thdulist_hdu = fits.HDUList([prihdu_hdu, tbhdu_hdu])\n",
    "\n",
    "fitsname_hdu = \"dataset_test/hdu-index.fits.gz\"\n",
    "\n",
    "thdulist_hdu.writeto(fitsname_hdu , clobber=True)"
   ]
  },
  {
   "cell_type": "code",
   "execution_count": null,
   "metadata": {},
   "outputs": [],
   "source": [
    "!ls -ltr dataset_test/data/"
   ]
  },
  {
   "cell_type": "code",
   "execution_count": 19,
   "metadata": {},
   "outputs": [
    {
     "name": "stdout",
     "output_type": "stream",
     "text": [
      "['OBS_ID', 'RA_PNT', 'DEC_PNT', 'GLON_PNT', 'GLAT_PNT', 'ZEN_PNT', 'ALT_PNT', 'AZ_PNT', 'ONTIME', 'LIVETIME', 'DEADC', 'TSTART', 'TSTOP', 'DATE_OBS', 'TIME_OBS', 'DATE_END', 'TIME_END', 'EVENTS_FILENAME', 'EVENT_COUNT', 'EVENT_TIME_MIN', 'EVENT_TIME_MAX', 'EVENT_ENERGY_MIN', 'EVENT_ENERGY_MAX']\n"
     ]
    }
   ],
   "source": [
    "obs_ind = 'cta_1dc/obs-index.fits.gz'\n",
    "hdulist_obs = fits.open(obs_ind)\n",
    "paste_header_hdu = hdulist_obs[1].header\n",
    "\n",
    "print hdulist_obs[1].columns.names"
   ]
  },
  {
   "cell_type": "code",
   "execution_count": 90,
   "metadata": {},
   "outputs": [
    {
     "name": "stdout",
     "output_type": "stream",
     "text": [
      "['EVENT_ID', 'TIME', 'RA', 'DEC', 'ENERGY', 'DETX', 'DETY']\n"
     ]
    }
   ],
   "source": [
    "#Vedi quali di queste keywords sono dentro ai .fits uscito dalla simulazione e ricrea il file obs-index.fits.gz \n",
    "obs_ind = 'cta_1dc/data/baseline/gc/gc_baseline_000659.fits.gz'\n",
    "hdulist_obs = fits.open(obs_ind)\n",
    "paste_header_hdu = hdulist_obs[1].header\n",
    "\n",
    "#print paste_header_hdu[\"GLON_PNT\"]\n",
    "print hdulist_obs[1].columns.names"
   ]
  },
  {
   "cell_type": "code",
   "execution_count": 89,
   "metadata": {},
   "outputs": [
    {
     "ename": "AttributeError",
     "evalue": "'Header' object has no attribute 'names'",
     "output_type": "error",
     "traceback": [
      "\u001b[0;31m---------------------------------------------------------------------------\u001b[0m",
      "\u001b[0;31mAttributeError\u001b[0m                            Traceback (most recent call last)",
      "\u001b[0;32m<ipython-input-89-c6007f4ae97a>\u001b[0m in \u001b[0;36m<module>\u001b[0;34m()\u001b[0m\n\u001b[1;32m      3\u001b[0m \u001b[0mpaste_header_hdu\u001b[0m \u001b[0;34m=\u001b[0m \u001b[0mhdulist_obs\u001b[0m\u001b[0;34m[\u001b[0m\u001b[0;36m1\u001b[0m\u001b[0;34m]\u001b[0m\u001b[0;34m.\u001b[0m\u001b[0mheader\u001b[0m\u001b[0;34m\u001b[0m\u001b[0m\n\u001b[1;32m      4\u001b[0m \u001b[0;34m\u001b[0m\u001b[0m\n\u001b[0;32m----> 5\u001b[0;31m \u001b[0;32mprint\u001b[0m \u001b[0mpaste_header_hdu\u001b[0m\u001b[0;34m.\u001b[0m\u001b[0mnames\u001b[0m\u001b[0;34m\u001b[0m\u001b[0m\n\u001b[0m",
      "\u001b[0;31mAttributeError\u001b[0m: 'Header' object has no attribute 'names'"
     ]
    }
   ],
   "source": [
    "obs_ind = 'dataset_test/data/sim_events_000001.fits'\n",
    "hdulist_obs = fits.open(obs_ind)\n",
    "paste_header_hdu = hdulist_obs[1].header\n",
    "\n",
    "print paste_header_hdu"
   ]
  },
  {
   "cell_type": "code",
   "execution_count": 22,
   "metadata": {
    "collapsed": true
   },
   "outputs": [
    {
     "data": {
      "text/plain": [
       "XTENSION= 'BINTABLE'           / binary table extension                         \n",
       "BITPIX  =                    8 / array data type                                \n",
       "NAXIS   =                    2 / number of array dimensions                     \n",
       "NAXIS1  =                  215 / length of dimension 1                          \n",
       "NAXIS2  =                 1673 / length of dimension 2                          \n",
       "PCOUNT  =                    0 / number of group parameters                     \n",
       "GCOUNT  =                    1 / number of groups                               \n",
       "TFIELDS =                   23 / number of table fields                         \n",
       "TTYPE1  = 'OBS_ID  '                                                            \n",
       "TFORM1  = 'K       '                                                            \n",
       "TTYPE2  = 'RA_PNT  '                                                            \n",
       "TFORM2  = 'D       '                                                            \n",
       "TTYPE3  = 'DEC_PNT '                                                            \n",
       "TFORM3  = 'D       '                                                            \n",
       "TTYPE4  = 'GLON_PNT'                                                            \n",
       "TFORM4  = 'D       '                                                            \n",
       "TTYPE5  = 'GLAT_PNT'                                                            \n",
       "TFORM5  = 'D       '                                                            \n",
       "TTYPE6  = 'ZEN_PNT '                                                            \n",
       "TFORM6  = 'D       '                                                            \n",
       "TTYPE7  = 'ALT_PNT '                                                            \n",
       "TFORM7  = 'D       '                                                            \n",
       "TTYPE8  = 'AZ_PNT  '                                                            \n",
       "TFORM8  = 'K       '                                                            \n",
       "TTYPE9  = 'ONTIME  '                                                            \n",
       "TFORM9  = 'D       '                                                            \n",
       "TTYPE10 = 'LIVETIME'                                                            \n",
       "TFORM10 = 'D       '                                                            \n",
       "TTYPE11 = 'DEADC   '                                                            \n",
       "TFORM11 = 'D       '                                                            \n",
       "TTYPE12 = 'TSTART  '                                                            \n",
       "TFORM12 = 'D       '                                                            \n",
       "TTYPE13 = 'TSTOP   '                                                            \n",
       "TFORM13 = 'D       '                                                            \n",
       "TTYPE14 = 'DATE_OBS'                                                            \n",
       "TFORM14 = '10A     '                                                            \n",
       "TTYPE15 = 'TIME_OBS'                                                            \n",
       "TFORM15 = '8A      '                                                            \n",
       "TTYPE16 = 'DATE_END'                                                            \n",
       "TFORM16 = '10A     '                                                            \n",
       "TTYPE17 = 'TIME_END'                                                            \n",
       "TFORM17 = '8A      '                                                            \n",
       "TTYPE18 = 'EVENTS_FILENAME'                                                     \n",
       "TFORM18 = '43A     '                                                            \n",
       "TTYPE19 = 'EVENT_COUNT'                                                         \n",
       "TFORM19 = 'K       '                                                            \n",
       "TTYPE20 = 'EVENT_TIME_MIN'                                                      \n",
       "TFORM20 = 'D       '                                                            \n",
       "TTYPE21 = 'EVENT_TIME_MAX'                                                      \n",
       "TFORM21 = 'D       '                                                            \n",
       "TTYPE22 = 'EVENT_ENERGY_MIN'                                                    \n",
       "TFORM22 = 'E       '                                                            \n",
       "TTYPE23 = 'EVENT_ENERGY_MAX'                                                    \n",
       "TFORM23 = 'E       '                                                            \n",
       "DATASET = 'Dataset for the Sexten School'                                       "
      ]
     },
     "execution_count": 22,
     "metadata": {},
     "output_type": "execute_result"
    }
   ],
   "source": [
    "paste_header_hdu"
   ]
  },
  {
   "cell_type": "code",
   "execution_count": 95,
   "metadata": {
    "scrolled": false
   },
   "outputs": [
    {
     "name": "stdout",
     "output_type": "stream",
     "text": [
      "(1, 83.6331, 22.0145, ' ', ' ', 0, 90, 0, 30.0, 28.5, 0.95, 0.0, 30.0, '2000-01-01', '11:58:56', '2000-01-01', '11:59:26', 'data/sim_events_000001.fits', 859, 0.0, 30.0, 0.050009754, 10.61405)\n",
      "(2, 83.6331, 22.0145, ' ', ' ', 0, 90, 0, 30.0, 28.5, 0.95, 30.0, 60.0, '2000-01-01', '11:59:26', '2000-01-01', '11:59:56', 'data/sim_events_000002.fits', 821, 30.0, 60.0, 0.050029468, 8.3124619)\n",
      "(3, 83.6331, 22.0145, ' ', ' ', 0, 90, 0, 30.0, 28.5, 0.95, 60.0, 90.0, '2000-01-01', '11:59:56', '2000-01-01', '12:00:26', 'data/sim_events_000003.fits', 863, 60.0, 90.0, 0.050120071, 18.519211)\n",
      "(4, 83.6331, 22.0145, ' ', ' ', 0, 90, 0, 30.0, 28.5, 0.95, 90.0, 120.0, '2000-01-01', '12:00:26', '2000-01-01', '12:00:56', 'data/sim_events_000004.fits', 865, 90.0, 120.0, 0.050029445, 14.243093)\n",
      "(5, 83.6331, 22.0145, ' ', ' ', 0, 90, 0, 30.0, 28.5, 0.95, 120.0, 150.0, '2000-01-01', '12:00:56', '2000-01-01', '12:01:26', 'data/sim_events_000005.fits', 880, 120.0, 150.0, 0.050004993, 12.902865)\n",
      "(6, 83.6331, 22.0145, ' ', ' ', 0, 90, 0, 30.0, 28.5, 0.95, 150.0, 180.0, '2000-01-01', '12:01:26', '2000-01-01', '12:01:56', 'data/sim_events_000006.fits', 840, 150.0, 180.0, 0.050094794, 17.542271)\n",
      "(7, 83.6331, 22.0145, ' ', ' ', 0, 90, 0, 30.0, 28.5, 0.95, 180.0, 210.0, '2000-01-01', '12:01:56', '2000-01-01', '12:02:26', 'data/sim_events_000007.fits', 862, 180.0, 210.0, 0.050004229, 9.8478479)\n",
      "(8, 83.6331, 22.0145, ' ', ' ', 0, 90, 0, 30.0, 28.5, 0.95, 210.0, 240.0, '2000-01-01', '12:02:26', '2000-01-01', '12:02:56', 'data/sim_events_000008.fits', 864, 210.0, 240.0, 0.050008539, 13.790368)\n",
      "(9, 83.6331, 22.0145, ' ', ' ', 0, 90, 0, 30.0, 28.5, 0.95, 240.0, 270.0, '2000-01-01', '12:02:56', '2000-01-01', '12:03:26', 'data/sim_events_000009.fits', 869, 240.0, 270.0, 0.050133299, 12.572091)\n"
     ]
    }
   ],
   "source": [
    "# count the number of sim_events_000*'fits files\n",
    "obs_number = 9\n",
    "\n",
    "for i in range(1,obs_number+1):\n",
    "    \n",
    "    obs_name = 'data/sim_events_'+str(i).rjust(6,'0')+'.fits'\n",
    "    obs_ind = 'dataset_test/'+obs_name\n",
    "    hdulist_obs = fits.open(obs_ind)\n",
    "    paste_header_hdu = hdulist_obs[1].header\n",
    "\n",
    "    #print paste_header_hdu[\"GLON_PNT\"]\n",
    "\n",
    "    OBS_ID   = i\n",
    "    RA_PNT   = paste_header_hdu[\"RA_PNT\"]\n",
    "    DEC_PNT  = paste_header_hdu[\"DEC_PNT\"]\n",
    "    GLON_PNT = \" \"\n",
    "    GLAT_PNT = \" \"\n",
    "    ZEN_PNT  = 0\n",
    "    ALT_PNT  = 90\n",
    "    AZ_PNT   = 0\n",
    "    ONTIME   = paste_header_hdu[\"ONTIME\"]\n",
    "    LIVETIME = paste_header_hdu[\"LIVETIME\"]\n",
    "    DEADC    = paste_header_hdu[\"DEADC\"]\n",
    "    TSTART   = paste_header_hdu[\"TSTART\"]\n",
    "    TSTOP    = paste_header_hdu[\"TSTOP\"]\n",
    "    DATE_OBS = paste_header_hdu[\"DATE_OBS\"]\n",
    "    TIME_OBS = paste_header_hdu[\"TIME_OBS\"]\n",
    "    DATE_END = paste_header_hdu[\"DATE_END\"]\n",
    "    TIME_END = paste_header_hdu[\"TIME_END\"]\n",
    "    EVENTS_FILENAME = obs_name\n",
    "    EVENT_COUNT = hdulist_obs[1].header[\"NAXIS2\"]\n",
    "    EVENT_TIME_MIN = TSTART\n",
    "    EVENT_TIME_MAX = TSTOP\n",
    "    EVENT_ENERGY_MIN = np.min(hdulist_obs[1].data['ENERGY'])\n",
    "    EVENT_ENERGY_MAX = np.max(hdulist_obs[1].data['ENERGY'])\n",
    "\n",
    "    print(OBS_ID, RA_PNT, DEC_PNT, GLON_PNT, GLAT_PNT, ZEN_PNT, ALT_PNT, AZ_PNT, ONTIME, LIVETIME, DEADC, TSTART, TSTOP, DATE_OBS, TIME_OBS, DATE_END, TIME_END, EVENTS_FILENAME, EVENT_COUNT, EVENT_TIME_MIN, EVENT_TIME_MAX, EVENT_ENERGY_MIN, EVENT_ENERGY_MAX)\n"
   ]
  },
  {
   "cell_type": "code",
   "execution_count": null,
   "metadata": {},
   "outputs": [],
   "source": [
    "data_1_hdu = np.array([[i]*6 for i in range(1,obs_number+1)]).reshape(6*obs_number)\n",
    "\n",
    "temp_2 = ['events','gti','aeff','edisp','psf','bkg']\n",
    "data_2_hdu = np.array([temp_2 for i in range(1,obs_number+1)]).reshape(6*obs_number)\n",
    "\n",
    "\n",
    "col1_hdu = fits.Column(name='OBS_ID', format='K', array=data_1_hdu)\n",
    "\n",
    "\n",
    "cols_hdu = fits.ColDefs([col1_hdu])#, col2_hdu, col3_hdu, col4_hdu, col5_hdu, col6_hdu])\n",
    "tbhdu_hdu = fits.BinTableHDU.from_columns(cols_hdu, header = paste_header_hdu)\n",
    "\n",
    "prihdr_hdu = fits.Header()\n",
    "prihdu_hdu = fits.PrimaryHDU(header=prihdr_hdu)\n",
    "print(prihdu_hdu)\n",
    "\n",
    "thdulist_hdu = fits.HDUList([prihdu_hdu, tbhdu_hdu])\n",
    "\n",
    "fitsname_hdu = \"dataset_test/obs-index.fits.gz\"\n",
    "\n",
    "thdulist_hdu.writeto(fitsname_hdu , clobber=True)"
   ]
  },
  {
   "cell_type": "code",
   "execution_count": null,
   "metadata": {},
   "outputs": [],
   "source": [
    "!pwd"
   ]
  },
  {
   "cell_type": "code",
   "execution_count": null,
   "metadata": {
    "collapsed": true
   },
   "outputs": [],
   "source": []
  }
 ],
 "metadata": {
  "kernelspec": {
   "display_name": "Python 2",
   "language": "python",
   "name": "python2"
  },
  "language_info": {
   "codemirror_mode": {
    "name": "ipython",
    "version": 2
   },
   "file_extension": ".py",
   "mimetype": "text/x-python",
   "name": "python",
   "nbconvert_exporter": "python",
   "pygments_lexer": "ipython2",
   "version": "2.7.5"
  }
 },
 "nbformat": 4,
 "nbformat_minor": 2
}
