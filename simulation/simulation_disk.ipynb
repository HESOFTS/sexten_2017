{
 "cells": [
  {
   "cell_type": "markdown",
   "metadata": {},
   "source": [
    "# Simulation (ctobssim) \n",
    "## (Output saved on disk)\n",
    "\n",
    "The purpose of this notebook is to perform a simulation using `ctobbsim` (and other scripts), create a count map with `ctskymap`, fit the spectrum with `cssens` and plot the spectrum using a function in the script `make_spectrum` (which comes together with ctools). \n",
    "\n",
    "In order to do the simulation, one has two options:\n",
    "- create an *observation container* file with the [given notebook](observation_definition.ipynb), in which many different pointings can be specified and might be useful for some specific analysis;\n",
    "- perform a simpler simulation, setting everything directly in this notebook."
   ]
  },
  {
   "cell_type": "code",
   "execution_count": null,
   "metadata": {
    "collapsed": true
   },
   "outputs": [],
   "source": [
    "import gammalib\n",
    "import ctools\n",
    "import cscripts "
   ]
  },
  {
   "cell_type": "markdown",
   "metadata": {},
   "source": [
    "# 1) Model Creation"
   ]
  },
  {
   "cell_type": "markdown",
   "metadata": {},
   "source": [
    "\n",
    "We need to provide a **model** for the source that we want to simulate; since many sources are simulated together, the xml model will have a section for every source to simulate, including the background. An example model is in $CTOOLS/share/models/crab.xml."
   ]
  },
  {
   "cell_type": "code",
   "execution_count": null,
   "metadata": {
    "collapsed": true
   },
   "outputs": [],
   "source": [
    "#!xmllint $CTOOLS/share/models/crab.xml"
   ]
  },
  {
   "cell_type": "markdown",
   "metadata": {},
   "source": [
    "The simplest way to create the model of the source is by hand, editing an existing model (for example the Crab model) and adjusting the parameters to the desired value. This approach is useful for a first test, but then one need to have a way of creating XML models rapidly and in a simple way.\n",
    "\n",
    "In order to do so, we have written a **Python** script which read in input all the data concerning the source that one wants to simulate (both the source itself and the background) and produces the XML model to be given to ctools. \n",
    "\n",
    "The script can bu used both with the notebook, that you find in sexten_2017/event_creator/Model_Creation.ipynb, or by running the python script from command line ($ python scriptModel_variable.py fileinput.txt). Please read the README that you find in the `model_creator` folder (you can find it on [this link](https://github.com/sharingan90/sexten_2017/blob/master/model_creator/README.md)).\n"
   ]
  },
  {
   "cell_type": "markdown",
   "metadata": {},
   "source": [
    "# 2) Set up the simulation\n",
    "\n",
    "The object sim in created and destroyed once the method execute() is called. If the observation definition file is provided, ctobssim will save a fits file for every pointing and a global *observation definition XML file*, different from the output of csobsdef (out_csobsdef.xml), which has a observation item for each pointing, in which the name of the fits file of the events is specified. \n",
    "\n",
    "## NOTE: choose just one of the following options.\n",
    "#### The simulation can be set up in two main different ways: \n",
    "\n",
    "## - **WITH** *the observation definition XML* file (built with  [this](observation_definition.ipynb) notebook)...\n",
    "\n",
    "### a) using the gammalib library"
   ]
  },
  {
   "cell_type": "code",
   "execution_count": null,
   "metadata": {
    "collapsed": true
   },
   "outputs": [],
   "source": [
    "obs_cont_bool = True\n",
    "src_model = \"crab.xml\"\n",
    "caldb, irf = 'prod2','South_0.5h'\n",
    "\n",
    "obs = gammalib.GObservations('out_csobsdef.xml')\n",
    "obs.models(gammalib.GModels(\"${CTOOLS}/share/models/crab.xml\"))\n",
    "sim = ctools.ctobssim(obs)\n",
    "\n",
    "src_name = obs[0].name()\n",
    "\n",
    "#sim[\"prefix\"] = src_name+\"_obs_out_\"                    # this is optional: \"sim_events_\" is the default\n",
    "\n",
    "sim_out = src_name+\"_obs_out.xml\"\n",
    "sim[\"outevents\"] = sim_out\n",
    "sim.execute()"
   ]
  },
  {
   "cell_type": "markdown",
   "metadata": {},
   "source": [
    "### b) OR using only ctools"
   ]
  },
  {
   "cell_type": "code",
   "execution_count": null,
   "metadata": {
    "collapsed": true
   },
   "outputs": [],
   "source": [
    "obs_cont_bool = True\n",
    "src_model = \"crab.xml\"\n",
    "\n",
    "models  = gammalib.GModels(gammalib.expand_env(src_model))\n",
    "src_name = models[0].name()\n",
    "print(src_name)\n",
    "\n",
    "caldb, irf = 'prod2','South_0.5h'\n",
    "\n",
    "sim = ctools.ctobssim()\n",
    "sim[\"inobs\"] = \"out_csobsdef.xml\"\n",
    "sim[\"inmodel\"] = src_model   #we load a sample model\n",
    "sim_out = src_name+\"_obs_out.xml\"\n",
    "\n",
    "sim[\"outevents\"] = sim_out\n",
    "sim.execute()"
   ]
  },
  {
   "cell_type": "markdown",
   "metadata": {},
   "source": [
    "### ...and both in case a) and b) one can also see the resulting xml file, together with the fits files, one for each pointing. "
   ]
  },
  {
   "cell_type": "code",
   "execution_count": null,
   "metadata": {
    "scrolled": true,
    "slideshow": {
     "slide_type": "slide"
    }
   },
   "outputs": [],
   "source": [
    "!ls  *_obs_out.xml sim_events_*.fits"
   ]
  },
  {
   "cell_type": "markdown",
   "metadata": {},
   "source": [
    "## - WITHOUT the observation definition XML file,\n",
    "\n",
    "(here we don'use csobsutils since it can only save the results in memory and not in disk, see the notebook realted to the simulation in memory for further details)"
   ]
  },
  {
   "cell_type": "markdown",
   "metadata": {},
   "source": [
    "### c)  using directly ctobssim."
   ]
  },
  {
   "cell_type": "code",
   "execution_count": null,
   "metadata": {},
   "outputs": [],
   "source": [
    "dur = 1800                         # seconds\n",
    "emin, emax = 0.05, 20.0          # in TeV\n",
    "rad, deadc = 8.0, 0.95\n",
    "caldb, irf = 'prod2','South_0.5h'\n",
    "\n",
    "# crab model\n",
    "src_model = \"crab.xml\"\n",
    "\n",
    "models  = gammalib.GModels(gammalib.expand_env(src_model))\n",
    "src_name = models[0].name()\n",
    "ra      = models[0][\"RA\"].value()\n",
    "dec     = models[0][\"DEC\"].value()\n",
    "print(src_name, ra, dec)\n",
    "\n",
    "# name of the output of the simulation\n",
    "sim_out = src_name+\"_out_sim.fits\""
   ]
  },
  {
   "cell_type": "code",
   "execution_count": null,
   "metadata": {
    "collapsed": true
   },
   "outputs": [],
   "source": [
    "obs_cont_bool = False\n",
    "\n",
    "sim = ctools.ctobssim()\n",
    "sim[\"outevents\"] = sim_out\n",
    "sim[\"inmodel\"] = src_model\n",
    "sim[\"ra\"] = ra\n",
    "sim[\"dec\"] = dec\n",
    "sim[\"rad\"] = rad\n",
    "sim[\"tmin\"] = 0.0\n",
    "sim[\"tmax\"] = dur\n",
    "sim[\"emin\"] = emin\n",
    "sim[\"emax\"] = emax\n",
    "sim[\"caldb\"] = caldb\n",
    "sim[\"irf\"] = irf\n",
    "sim.execute()"
   ]
  },
  {
   "cell_type": "markdown",
   "metadata": {},
   "source": [
    "### And the result is saved as fits file."
   ]
  },
  {
   "cell_type": "markdown",
   "metadata": {},
   "source": [
    "# 3) View the results\n",
    "## 3.1) Create a count map with the tool ctskymap."
   ]
  },
  {
   "cell_type": "code",
   "execution_count": null,
   "metadata": {
    "collapsed": true
   },
   "outputs": [],
   "source": [
    "name_map_out = \"skymap.fits\"\n",
    "\n",
    "skymap = ctools.ctskymap()\n",
    "skymap['inobs'] = sim_out\n",
    "skymap['emin'] = 0.1\n",
    "skymap['emax'] = 100\n",
    "skymap['nxpix'] = 20\n",
    "skymap['nypix'] = 20\n",
    "skymap['binsz'] = 0.7\n",
    "skymap['coordsys'] = \"CEL\"\n",
    "skymap['proj'] = \"AIT\"\n",
    "skymap['xref'] = 83.63 #RA\n",
    "skymap['yref'] = 22.01 #DEC\n",
    "skymap['bkgsubtract'] = \"NONE\" \n",
    "skymap['outmap'] = name_map_out\n",
    "skymap.execute()"
   ]
  },
  {
   "cell_type": "markdown",
   "metadata": {},
   "source": [
    "and we view it with ds9:"
   ]
  },
  {
   "cell_type": "code",
   "execution_count": null,
   "metadata": {
    "collapsed": true
   },
   "outputs": [],
   "source": [
    "!ds9 -wcs icrs -wcs skyformat degrees skymap.fits"
   ]
  },
  {
   "cell_type": "markdown",
   "metadata": {},
   "source": [
    "Another option is to view it using matplotlib and the astropy library"
   ]
  },
  {
   "cell_type": "code",
   "execution_count": null,
   "metadata": {
    "scrolled": true
   },
   "outputs": [],
   "source": [
    "%matplotlib inline\n",
    "import matplotlib.pyplot as plt\n",
    "from astropy.io import fits\n",
    "\n",
    "hdu_list = fits.open(name_map_out)\n",
    "image_data = hdu_list[0].data\n",
    "plt.imshow(image_data, cmap='gray')#, interpolation = 'sinc')#, vmin=0)\n",
    "plt.colorbar()\n",
    "#plt.savefig(\"out.png\")"
   ]
  },
  {
   "cell_type": "markdown",
   "metadata": {},
   "source": [
    "# 4) Likelihood"
   ]
  },
  {
   "cell_type": "markdown",
   "metadata": {},
   "source": [
    "Now we want to compute the likelihood of the source. We will perform this calculation with [ctlike](http://cta.irap.omp.eu/ctools/users/reference_manual/ctlike.html): this tool will fit all the parameters in the xml model that have **free = \"1\"**. \n",
    "\n",
    "In the output xml model we will have both the **value** of the fitted parameters and the associated **error**, and also the Test Statistics value (if specified in the xml model (see below)). "
   ]
  },
  {
   "cell_type": "code",
   "execution_count": null,
   "metadata": {
    "collapsed": true
   },
   "outputs": [],
   "source": [
    "'''\n",
    "Change by hand. From:\n",
    "<source name=\"Crab\" type=\"PointSource\"> \n",
    "to:\n",
    "<source name=\"Crab\" type=\"PointSource\" tscalc = \"1\">\n",
    "'''\n",
    "\n",
    "!cp crab.xml crab_in_like.xml \n",
    "!gedit crab_in_like.xml"
   ]
  },
  {
   "cell_type": "code",
   "execution_count": null,
   "metadata": {},
   "outputs": [],
   "source": [
    "# check whether the ts calculation has been included in the model\n",
    "\n",
    "new_models = gammalib.GModels('crab_in_like.xml')\n",
    "print((new_models[0].tscalc()))"
   ]
  },
  {
   "cell_type": "code",
   "execution_count": null,
   "metadata": {
    "collapsed": true
   },
   "outputs": [],
   "source": [
    "like = ctools.ctlike()\n",
    "like['inobs'] = sim_out\n",
    "like['inmodel'] = 'crab_in_like.xml'\n",
    "like['outmodel'] = src_name+\"_like_out.xml\"\n",
    "like.execute()"
   ]
  },
  {
   "cell_type": "code",
   "execution_count": null,
   "metadata": {},
   "outputs": [],
   "source": [
    "#!xmllint Crab_like_out.xml \n",
    "new_models = gammalib.GModels(src_name+\"_like_out.xml\")\n",
    "\n",
    "print(\"Model %s has TS: %.3f\" % (src_name, new_models[0].ts()))"
   ]
  },
  {
   "cell_type": "markdown",
   "metadata": {},
   "source": [
    "# 5) Butterfly Plot\n",
    "#### The  input source model is the output from ctlike. If this is not the case, the option `fit` must be set equal `yes`."
   ]
  },
  {
   "cell_type": "code",
   "execution_count": null,
   "metadata": {
    "collapsed": true
   },
   "outputs": [],
   "source": [
    "btfy = ctools.ctbutterfly()\n",
    "btfy['inobs'] = \"Crab_out_sim.fits\"\n",
    "btfy['inmodel'] = \"Crab_like_out.xml\"\n",
    "btfy['srcname'] = src_name\n",
    "btfy['caldb'] = caldb\n",
    "btfy['irf'] = irf\n",
    "btfy['outfile'] = 'butterfly_crab.txt'\n",
    "btfy['emin'] = emin\n",
    "btfy['emax'] = emax\n",
    "btfy.execute()"
   ]
  },
  {
   "cell_type": "code",
   "execution_count": null,
   "metadata": {},
   "outputs": [],
   "source": [
    "!ls -ltr butterfly_crab.txt"
   ]
  },
  {
   "cell_type": "markdown",
   "metadata": {},
   "source": [
    "Since the script does not display the images in terminal, we have to open a terminal window, source again `gammalib_ctools.sh` and run `$CTOOLS/share/examples/python/show_butterfly.py simulation/butterfly_crab.txt`"
   ]
  },
  {
   "cell_type": "code",
   "execution_count": null,
   "metadata": {
    "collapsed": true
   },
   "outputs": [],
   "source": []
  }
 ],
 "metadata": {
  "kernelspec": {
   "display_name": "Python 2",
   "language": "python",
   "name": "python2"
  },
  "language_info": {
   "codemirror_mode": {
    "name": "ipython",
    "version": 2
   },
   "file_extension": ".py",
   "mimetype": "text/x-python",
   "name": "python",
   "nbconvert_exporter": "python",
   "pygments_lexer": "ipython2",
   "version": "2.7.5"
  }
 },
 "nbformat": 4,
 "nbformat_minor": 2
}
