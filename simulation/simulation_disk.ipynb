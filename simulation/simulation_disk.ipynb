{
 "cells": [
  {
   "cell_type": "code",
   "execution_count": 2,
   "metadata": {
    "collapsed": true
   },
   "outputs": [],
   "source": [
    "import gammalib\n",
    "import ctools\n",
    "import cscripts \n",
    "import csv"
   ]
  },
  {
   "cell_type": "markdown",
   "metadata": {},
   "source": [
    "Now that we have created the **observation definition .xml** file, we can run the simulation. \n",
    "\n",
    "We have to give a model for the source to be simulated: since many sources are simulated together, the xml model will have a piece for every source to simulate, including the background. An example model is $CTOOLS/share/models/crab.xml.\n",
    "\n",
    "!xmllint $CTOOLS/share/models/crab.xml"
   ]
  },
  {
   "cell_type": "markdown",
   "metadata": {},
   "source": [
    "### EXECUTE CTOBBSIM\n",
    "\n",
    "The object sim in created and destroyed once the method execute() is called. This will save a fits file for every pointing and a global *observation definition XML file*, different from the output of csobsdef (out_csobsdef.xml), which has a observation item for each pointing, in which the name of the fits file of the events is specified. "
   ]
  },
  {
   "cell_type": "markdown",
   "metadata": {},
   "source": [
    "### Set up the simulation\n",
    "The simulation can be set up in two different ways: \n",
    "- using the gammalib library "
   ]
  },
  {
   "cell_type": "code",
   "execution_count": null,
   "metadata": {
    "collapsed": true
   },
   "outputs": [],
   "source": [
    "obs = gammalib.GObservations('out_csobsdef.xml')\n",
    "model_name = \"${CTOOLS}/share/models/crab.xml\"\n",
    "obs.models(gammalib.GModels(model_name))\n",
    "\n",
    "sim = ctools.ctobssim(obs)"
   ]
  },
  {
   "cell_type": "markdown",
   "metadata": {},
   "source": [
    "- using only ctools"
   ]
  },
  {
   "cell_type": "code",
   "execution_count": 1,
   "metadata": {
    "collapsed": true
   },
   "outputs": [
    {
     "ename": "NameError",
     "evalue": "name 'ctools' is not defined",
     "output_type": "error",
     "traceback": [
      "\u001b[0;31m---------------------------------------------------------------------------\u001b[0m",
      "\u001b[0;31mNameError\u001b[0m                                 Traceback (most recent call last)",
      "\u001b[0;32m<ipython-input-1-4d4e802bcd6a>\u001b[0m in \u001b[0;36m<module>\u001b[0;34m()\u001b[0m\n\u001b[0;32m----> 1\u001b[0;31m \u001b[0msim\u001b[0m \u001b[0;34m=\u001b[0m \u001b[0mctools\u001b[0m\u001b[0;34m.\u001b[0m\u001b[0mctobssim\u001b[0m\u001b[0;34m(\u001b[0m\u001b[0;34m)\u001b[0m\u001b[0;34m\u001b[0m\u001b[0m\n\u001b[0m\u001b[1;32m      2\u001b[0m \u001b[0msim\u001b[0m\u001b[0;34m[\u001b[0m\u001b[0;34m\"inobs\"\u001b[0m\u001b[0;34m]\u001b[0m \u001b[0;34m=\u001b[0m \u001b[0;34m\"out_csobsdef.xml\"\u001b[0m\u001b[0;34m\u001b[0m\u001b[0m\n\u001b[1;32m      3\u001b[0m \u001b[0msim\u001b[0m\u001b[0;34m[\u001b[0m\u001b[0;34m\"inmodel\"\u001b[0m\u001b[0;34m]\u001b[0m \u001b[0;34m=\u001b[0m \u001b[0;34m\"${CTOOLS}/share/models/crab.xml\"\u001b[0m   \u001b[0;31m#we load a sample model\u001b[0m\u001b[0;34m\u001b[0m\u001b[0m\n",
      "\u001b[0;31mNameError\u001b[0m: name 'ctools' is not defined"
     ]
    }
   ],
   "source": [
    "sim = ctools.ctobssim()\n",
    "sim[\"inobs\"] = \"out_csobsdef.xml\"\n",
    "sim[\"inmodel\"] = \"${CTOOLS}/share/models/crab.xml\"   #we load a sample model"
   ]
  },
  {
   "cell_type": "code",
   "execution_count": null,
   "metadata": {
    "collapsed": true
   },
   "outputs": [],
   "source": [
    "print(sim.obs())"
   ]
  },
  {
   "cell_type": "code",
   "execution_count": 14,
   "metadata": {
    "collapsed": true
   },
   "outputs": [
    {
     "name": "stdout",
     "output_type": "stream",
     "text": [
      "<?xml version=\"1.0\" encoding=\"UTF-8\" standalone=\"no\"?>\r\n",
      "<observation_list title=\"observation list\">\r\n",
      "  <observation name=\"Crab\" id=\"0001\" instrument=\"CTA\">\r\n",
      "    <parameter name=\"EventList\" file=\"Crab_obs_out_000001.fits\"/>\r\n",
      "    <parameter name=\"Calibration\" database=\"prod2\" response=\"South_0.5h\"/>\r\n",
      "  </observation>\r\n",
      "  <observation name=\"Crab\" id=\"0002\" instrument=\"CTA\">\r\n",
      "    <parameter name=\"EventList\" file=\"Crab_obs_out_000002.fits\"/>\r\n",
      "    <parameter name=\"Calibration\" database=\"prod2\" response=\"South_0.5h\"/>\r\n",
      "  </observation>\r\n",
      "  <observation name=\"Crab\" id=\"0003\" instrument=\"CTA\">\r\n",
      "    <parameter name=\"EventList\" file=\"Crab_obs_out_000003.fits\"/>\r\n",
      "    <parameter name=\"Calibration\" database=\"prod2\" response=\"South_0.5h\"/>\r\n",
      "  </observation>\r\n",
      "</observation_list>\r\n"
     ]
    }
   ],
   "source": [
    "sim[\"prefix\"] = name+\"_obs_out_\"                    # this is optional: \"sim_events_\" is the default\n",
    "sim[\"outevents\"] = name+\"_obs_out.xml\"\n",
    "sim.execute()\n",
    "!xmllint *_obs_out.xml"
   ]
  },
  {
   "cell_type": "code",
   "execution_count": 45,
   "metadata": {
    "collapsed": true
   },
   "outputs": [],
   "source": [
    "like = ctools.ctlike()\n",
    "like['inobs'] = name+\"_obs_out.xml\"\n",
    "like['inmodel'] = name+\"_like_in.xml\"\n",
    "like['outmodel'] = name+\"_like_out.xml\"\n",
    "like.execute()"
   ]
  },
  {
   "cell_type": "code",
   "execution_count": 47,
   "metadata": {
    "collapsed": true
   },
   "outputs": [
    {
     "name": "stdout",
     "output_type": "stream",
     "text": [
      "<?xml version=\"1.0\" standalone=\"no\"?>\r\n",
      "<source_library title=\"source library\">\r\n",
      "  <source name=\"Crab\" type=\"PointSource\" tscalc=\"1\">\r\n",
      "    <spectrum type=\"PowerLaw\">\r\n",
      "       <parameter name=\"Prefactor\" scale=\"1e-16\" value=\"5.7\" min=\"1e-07\" max=\"1000.0\" free=\"1\"/>\r\n",
      "       <parameter name=\"Index\" scale=\"-1\" value=\"2.48\" min=\"0.0\" max=\"+5.0\" free=\"1\"/>\r\n",
      "       <parameter name=\"PivotEnergy\" scale=\"1e6\" value=\"0.3\" min=\"0.01\" max=\"1000.0\" free=\"0\"/>\r\n",
      "    </spectrum>\r\n",
      "    <spatialModel type=\"PointSource\">\r\n",
      "      <parameter name=\"RA\" scale=\"1.0\" value=\"83.6331\" min=\"-360\" max=\"360\" free=\"0\"/>\r\n",
      "      <parameter name=\"DEC\" scale=\"1.0\" value=\"22.0145\" min=\"-90\" max=\"90\" free=\"0\"/>\r\n",
      "    </spatialModel>\r\n",
      "  </source>\r\n",
      "  <source name=\"CTABackgroundModel\" type=\"CTAIrfBackground\" instrument=\"CTA\">\r\n",
      "    <spectrum type=\"PowerLaw\">\t\r\n",
      "      <parameter name=\"Prefactor\" scale=\"1.0\" value=\"1.0\" min=\"1e-3\" max=\"1e+3\" free=\"1\"/>\t\r\n",
      "      <parameter name=\"Index\" scale=\"1.0\" value=\"0.0\" min=\"-5.0\" max=\"+5.0\" free=\"1\"/>\r\n",
      "      <parameter name=\"PivotEnergy\" scale=\"1e6\" value=\"1.0\" min=\"0.01\" max=\"1000.0\" free=\"0\"/>\r\n",
      "    </spectrum>\r\n",
      "  </source>\t\r\n",
      "</source_library>\r\n"
     ]
    }
   ],
   "source": [
    "!xmllint Crab_like_in.xml"
   ]
  },
  {
   "cell_type": "code",
   "execution_count": 48,
   "metadata": {
    "collapsed": true
   },
   "outputs": [
    {
     "name": "stdout",
     "output_type": "stream",
     "text": [
      "<?xml version=\"1.0\" encoding=\"UTF-8\" standalone=\"no\"?>\r\n",
      "<source_library title=\"source library\">\r\n",
      "  <source name=\"Crab\" type=\"PointSource\" ts=\"1166.980\" tscalc=\"1\">\r\n",
      "    <spectrum type=\"PowerLaw\">\r\n",
      "      <parameter name=\"Prefactor\" value=\"5.54422461847769\" error=\"0.377092400479234\" scale=\"1e-16\" min=\"1e-07\" max=\"1000\" free=\"1\"/>\r\n",
      "      <parameter name=\"Index\" value=\"2.52392069106955\" error=\"0.0555101110513654\" scale=\"-1\" min=\"0\" max=\"5\" free=\"1\"/>\r\n",
      "      <parameter name=\"PivotEnergy\" value=\"0.3\" scale=\"1000000\" min=\"0.01\" max=\"1000\" free=\"0\"/>\r\n",
      "    </spectrum>\r\n",
      "    <spatialModel type=\"PointSource\">\r\n",
      "      <parameter name=\"RA\" value=\"83.6331\" scale=\"1\" min=\"-360\" max=\"360\" free=\"0\"/>\r\n",
      "      <parameter name=\"DEC\" value=\"22.0145\" scale=\"1\" min=\"-90\" max=\"90\" free=\"0\"/>\r\n",
      "    </spatialModel>\r\n",
      "  </source>\r\n",
      "  <source name=\"CTABackgroundModel\" type=\"CTAIrfBackground\" instrument=\"CTA\">\r\n",
      "    <spectrum type=\"PowerLaw\">\r\n",
      "      <parameter name=\"Prefactor\" value=\"0.977266857921779\" error=\"0.0501538331865692\" scale=\"1\" min=\"0.001\" max=\"1000\" free=\"1\"/>\r\n",
      "      <parameter name=\"Index\" value=\"-0.00424351268992171\" error=\"0.0220637590235828\" scale=\"1\" min=\"-5\" max=\"5\" free=\"1\"/>\r\n",
      "      <parameter name=\"PivotEnergy\" value=\"1\" scale=\"1000000\" min=\"0.01\" max=\"1000\" free=\"0\"/>\r\n",
      "    </spectrum>\r\n",
      "  </source>\r\n",
      "</source_library>\r\n"
     ]
    }
   ],
   "source": [
    "!xmllint Crab_like_out.xml"
   ]
  },
  {
   "cell_type": "code",
   "execution_count": null,
   "metadata": {
    "collapsed": true
   },
   "outputs": [],
   "source": []
  }
 ],
 "metadata": {
  "kernelspec": {
   "display_name": "Python 2",
   "language": "python",
   "name": "python2"
  },
  "language_info": {
   "codemirror_mode": {
    "name": "ipython",
    "version": 2
   },
   "file_extension": ".py",
   "mimetype": "text/x-python",
   "name": "python",
   "nbconvert_exporter": "python",
   "pygments_lexer": "ipython2",
   "version": "2.7.5"
  }
 },
 "nbformat": 4,
 "nbformat_minor": 2
}
