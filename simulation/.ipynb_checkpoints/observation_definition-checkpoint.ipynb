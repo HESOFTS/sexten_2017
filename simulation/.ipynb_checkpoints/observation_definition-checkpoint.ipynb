{
 "cells": [
  {
   "cell_type": "code",
   "execution_count": null,
   "metadata": {
    "collapsed": true
   },
   "outputs": [],
   "source": [
    "import gammalib\n",
    "import ctools\n",
    "import cscripts \n",
    "import csv"
   ]
  },
  {
   "cell_type": "markdown",
   "metadata": {},
   "source": [
    "## Create Pointing definition ASCII file in comma-separated value (CSV) format"
   ]
  },
  {
   "cell_type": "markdown",
   "metadata": {},
   "source": [
    "### We set up everything we need in order to create the .csv file that will we used later on in order to create the xml file with the script csobsdef. The xml file which is created with this script can be given to the simulation tool (ctobssim). "
   ]
  },
  {
   "cell_type": "code",
   "execution_count": null,
   "metadata": {
    "collapsed": true,
    "slideshow": {
     "slide_type": "slide"
    }
   },
   "outputs": [],
   "source": [
    "# the id must be different for each observation\n",
    "\n",
    "csv_filename = 'obs_test.csv'\n",
    "name = 'Crab'\n",
    "ra = 83.6331\n",
    "dec = 22.0145\n",
    "duration = 30        # seconds\n",
    "emin = 0.05          # in TeV\n",
    "emax = 20.0          # in TeV\n",
    "rad = 8.0\n",
    "caldb = 'prod2'\n",
    "irf = 'South_0.5h'\n",
    "deadc = 0.95\n",
    "\n",
    "with open(csv_filename, 'w') as csvfile:\n",
    "    #fieldnames = ['name', 'id','ra','dec','duration','emin', 'emax', 'rad', 'deadc', 'caldb', 'irf']\n",
    "    fieldnames = ['name', 'id','ra','dec','duration', 'emin', 'emax','']\n",
    "\n",
    "    writer = csv.DictWriter(csvfile, fieldnames=fieldnames)\n",
    "    writer.writeheader()\n",
    "    \n",
    "    for id in range(1,3):\n",
    "        if id < 10:\n",
    "            id_print = \"000\"+str(id)\n",
    "        elif id < 100:\n",
    "            id_print = \"00\"+str(id)\n",
    "        #writer.writerow({'name': name, 'id': id_print,'ra' : ra, 'dec':dec,'duration':duration, 'emin':emin, 'emax':emax, 'rad':rad, 'deadc':deadc, 'caldb':caldb, 'irf':irf})\n",
    "        writer.writerow({'name': name, 'id': id_print,'ra' : ra, 'dec':dec,'duration':duration, 'emin':emin, 'emax':emax})"
   ]
  },
  {
   "cell_type": "code",
   "execution_count": null,
   "metadata": {
    "slideshow": {
     "slide_type": "slide"
    }
   },
   "outputs": [],
   "source": [
    "# this is the csv file: see http://cta.irap.omp.eu/ctools/users/reference_manual/csobsdef.html for details.\n",
    "!more obs_test.csv"
   ]
  },
  {
   "cell_type": "markdown",
   "metadata": {},
   "source": [
    "## Create Observation Definition XML file"
   ]
  },
  {
   "cell_type": "markdown",
   "metadata": {},
   "source": [
    "All the tools can be used from Python in the same way. First you have to create an **instance** of the class, then you have to set up all the required parameters. If a python script with all the analysis chain is run from terminal (*$ python script.py*) and some informations are missing, they will be asked by the script itself.\n",
    "\n",
    "The execute() method executes the ctobssim class in the same way as if it were executed from the command line. Alternatively, you may “run” the ctobssim tool using run(). The main difference to the execute() method is that the **run() will not write** the simulated event file to disk. Why is this useful? Well, after having typed sim.run() the ctobssim class still exists as an object in memory, including all the simulated events."
   ]
  },
  {
   "cell_type": "code",
   "execution_count": null,
   "metadata": {
    "collapsed": true,
    "slideshow": {
     "slide_type": "slide"
    }
   },
   "outputs": [],
   "source": [
    "# the script is called in this way because it was explicitely imported at the beginning\n",
    "\n",
    "obsdef = cscripts.csobsdef()       #create empty instance\n",
    "obsdef['inpnt'] = csv_filename     #Pointing definition ASCII file in comma-separated value (CSV) format.\n",
    "obsdef['deadc'] = deadc\n",
    "obsdef['caldb'] = caldb\n",
    "obsdef['irf'] = irf\n",
    "obsdef['rad'] = rad\n",
    "obsdef['outobs'] = 'out_csobsdef.xml'\n",
    "obsdef.execute()"
   ]
  },
  {
   "cell_type": "code",
   "execution_count": null,
   "metadata": {
    "slideshow": {
     "slide_type": "slide"
    }
   },
   "outputs": [],
   "source": [
    "#visualization of the Observation Definition XML file.\n",
    "!xmllint 'out_csobsdef.xml'"
   ]
  },
  {
   "cell_type": "markdown",
   "metadata": {},
   "source": [
    "Now that we have created the **observation definition .xml** file, we can run the simulation. \n",
    "\n",
    "We only need to provide a **model** for the source that we want to simulate. We have to give a model for the source to be simulated: since many sources are simulated together, the xml model will have a piece for every source to simulate, including the background. An example model is $CTOOLS/share/models/crab.xml."
   ]
  },
  {
   "cell_type": "code",
   "execution_count": null,
   "metadata": {
    "collapsed": true
   },
   "outputs": [],
   "source": [
    "#!xmllint $CTOOLS/share/models/crab.xml"
   ]
  }
 ],
 "metadata": {
  "kernelspec": {
   "display_name": "Python 2",
   "language": "python",
   "name": "python2"
  },
  "language_info": {
   "codemirror_mode": {
    "name": "ipython",
    "version": 2
   },
   "file_extension": ".py",
   "mimetype": "text/x-python",
   "name": "python",
   "nbconvert_exporter": "python",
   "pygments_lexer": "ipython2",
   "version": "2.7.5"
  }
 },
 "nbformat": 4,
 "nbformat_minor": 2
}
