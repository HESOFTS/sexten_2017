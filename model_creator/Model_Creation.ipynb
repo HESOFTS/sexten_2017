{
 "cells": [
  {
   "cell_type": "markdown",
   "metadata": {},
   "source": [
    "# Creation of a source model\n",
    "\n",
    "We advice you to open README.md in another window during this tutorial and check for more advanced informations.\n",
    "\n",
    "The purpose of this notebook is to show some examples to clarify how to use `scriptModel_variable.py` from a plain text file (you can use whatever file type you want, but it must be plain text).\n",
    "\n",
    "The Python script `scriptModel_variable.py` is a collection of almost all the spatial and spectral model that can be used with the ctools. The script take as input a text file, in which each row is a different source (remember that the background is considered as a source) and it will be appended to the same xml model that results as output after running either this notebook or the script directly.\n",
    "\n",
    "**NOTE**: the Python script is still under development and not fully tested yet, so please report every error that you find to thomas.gasparetto@ts.infn.it.\n",
    "\n",
    "\n",
    "## Define a plain text model\n",
    "\n",
    "We start creating a file:\n"
   ]
  },
  {
   "cell_type": "code",
   "execution_count": null,
   "metadata": {
    "collapsed": true
   },
   "outputs": [],
   "source": [
    "fs = open('first_model', 'w')         #clean it if it's not empty\n",
    "#fs = open('first_model','a')          #only append without overwriting\n"
   ]
  },
  {
   "cell_type": "markdown",
   "metadata": {},
   "source": [
    "Now we want to append an easy string file to build the xml with all the information we have. \n",
    "\n",
    "The first source we choose is the Crab, so we can double-check what we obtain from our script with the example xml that you can find in `$CTOOLS/share/example/crab.xml`. \n",
    "\n",
    "The spatial model of the Crab is a point source and the spectrum is a power law and, **as explained in the [README](https://github.com/sharingan90/sexten_2017/blob/master/model_creator/README.md) **, we can write everything on a line, formatted as follows:\n"
   ]
  },
  {
   "cell_type": "code",
   "execution_count": null,
   "metadata": {
    "collapsed": true
   },
   "outputs": [],
   "source": [
    "crab = \"Crab Point 0 83.6331 22.0145 0 0 0 PL 5.7e-16 2.48 0.3*TeV\""
   ]
  },
  {
   "cell_type": "markdown",
   "metadata": {},
   "source": [
    "Then we append the string to the file:"
   ]
  },
  {
   "cell_type": "code",
   "execution_count": null,
   "metadata": {
    "collapsed": true
   },
   "outputs": [],
   "source": [
    "fs.write(crab + ' \\n')"
   ]
  },
  {
   "cell_type": "markdown",
   "metadata": {},
   "source": [
    "Now we want to append the background model:"
   ]
  },
  {
   "cell_type": "code",
   "execution_count": null,
   "metadata": {
    "collapsed": true
   },
   "outputs": [],
   "source": [
    "crab_bkg = \"BKG_crab CTAIrf 0 0 0 0 0 0 PL 1.0 0.0 0.3*TeV\"\n",
    "fs.write(crab_bkg + ' \\n')"
   ]
  },
  {
   "cell_type": "markdown",
   "metadata": {},
   "source": [
    "If we want to save the file and reopen it without overwriting the content we must write:"
   ]
  },
  {
   "cell_type": "code",
   "execution_count": null,
   "metadata": {
    "collapsed": true
   },
   "outputs": [],
   "source": [
    "fs.close()"
   ]
  },
  {
   "cell_type": "markdown",
   "metadata": {},
   "source": [
    "Now we will try to produce the Crab xml model with this command (this is Python via bash terminal):"
   ]
  },
  {
   "cell_type": "code",
   "execution_count": null,
   "metadata": {
    "collapsed": true
   },
   "outputs": [],
   "source": [
    "!python scriptModel_variable.py first_model verbose"
   ]
  },
  {
   "cell_type": "markdown",
   "metadata": {
    "collapsed": true
   },
   "source": [
    "To demonstrate another example, we take a different source and background model: this model is taken from the example folder inside ctools."
   ]
  },
  {
   "cell_type": "code",
   "execution_count": null,
   "metadata": {
    "collapsed": true
   },
   "outputs": [],
   "source": [
    "fs = open('first_model', 'w')\n",
    "\n",
    "crab = \"c_gauss RadGauss 1 83.6331 22.0145 0.20 0 0 PL 5.7e-16 2.48 0.3*TeV\"\n",
    "crab_bkg = \"BKGpoly Polynom 0 1.0_-0.123917_0.9751791_-3.0584577_2.9089535_-1.3535372_0.3413752_-0.0449642_0.0024321 0 0 0 0 PL 61.8e-6 1.85 1.0*TeV\"\n",
    "\n",
    "fs.write(crab + ' \\n')\n",
    "fs.write(crab_bkg + ' \\n')\n",
    "\n",
    "fs.close()"
   ]
  },
  {
   "cell_type": "markdown",
   "metadata": {},
   "source": [
    "And again we use the external python script to produce the xml model."
   ]
  },
  {
   "cell_type": "code",
   "execution_count": null,
   "metadata": {
    "collapsed": true
   },
   "outputs": [],
   "source": [
    "!python scriptModel_variable.py first_model verb"
   ]
  },
  {
   "cell_type": "code",
   "execution_count": null,
   "metadata": {
    "collapsed": true
   },
   "outputs": [],
   "source": []
  }
 ],
 "metadata": {
  "kernelspec": {
   "display_name": "Python 2",
   "language": "python",
   "name": "python2"
  },
  "language_info": {
   "codemirror_mode": {
    "name": "ipython",
    "version": 2
   },
   "file_extension": ".py",
   "mimetype": "text/x-python",
   "name": "python",
   "nbconvert_exporter": "python",
   "pygments_lexer": "ipython2",
   "version": "2.7.14"
  }
 },
 "nbformat": 4,
 "nbformat_minor": 2
}
