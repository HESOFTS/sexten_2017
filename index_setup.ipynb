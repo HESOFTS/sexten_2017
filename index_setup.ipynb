{
 "cells": [
  {
   "cell_type": "markdown",
   "metadata": {},
   "source": [
    "**HOW TO**: In order to execute the code cells in the notebook, just press Shift+Enter: if the cell has code in it, this will be executed. If the cell is in Markdown mode (only words), pressing Shift+Enter will only recreate what is written in the cell. \n"
   ]
  },
  {
   "cell_type": "markdown",
   "metadata": {
    "slideshow": {
     "slide_type": "slide"
    }
   },
   "source": [
    "# CTOOLS EXAMPLE\n",
    "\n",
    "In order to start this notebook you need to have sourced both gammalib and the ctools: you can skip the first box if you have already set up both gammalib and ctools by launching the gammalib_ctools.sh script before using this notebook.\n",
    "\n",
    "The script simply export the right environment variables and works only if the file gammalib_ctools.sh is in /home/fermi-cta."
   ]
  },
  {
   "cell_type": "code",
   "execution_count": 1,
   "metadata": {},
   "outputs": [
    {
     "name": "stdout",
     "output_type": "stream",
     "text": [
      "export GAMMALIB=/usr/local/gamma\r\n",
      "source $GAMMALIB/bin/gammalib-init.sh\r\n",
      "#\r\n",
      "export CTOOLS=/usr/local/gamma\r\n",
      "source $CTOOLS/bin/ctools-init.sh\r\n",
      "#\r\n",
      "export GAMMAPY_EXTRA=~/gammapy-extra\r\n",
      " \r\n"
     ]
    }
   ],
   "source": [
    "# export GAMMALIB=/usr/local/gamma\n",
    "# source $GAMMALIB/bin/gammalib-init.sh\n",
    "# export CTOOLS=/usr/local/gamma\n",
    "# source $CTOOLS/bin/ctools-init.sh\n",
    "\n",
    "!more /home/fermi-cta/gammalib_ctools.sh "
   ]
  },
  {
   "cell_type": "code",
   "execution_count": 5,
   "metadata": {
    "collapsed": true,
    "slideshow": {
     "slide_type": "slide"
    }
   },
   "outputs": [],
   "source": [
    "import gammalib\n",
    "import ctools\n",
    "import cscripts "
   ]
  },
  {
   "cell_type": "markdown",
   "metadata": {},
   "source": [
    "After importing all the libraries that are needed to perform the simulations, we ca do many different things:\n",
    "- [Create the XML source model](model_creator/Model_Creation.ipynb)\n",
    "\n",
    "- [Create observation definition file](simulation/observation_definition.ipynb)\n",
    "\n",
    "- [Run a simulation in memory](simulation/simulation_mem.ipynb)\n",
    "- [Run a simulation on disk](simulation/simulation_disk.ipynb)\n",
    "\n",
    "- [Display a count map from simulated data](simulation/Display_count_map.ipynb)\n",
    "- [Create a dataset to be analized with Gammapy](simulation/Dataset_creator.ipynb)\n",
    "- [Analyze the created dataset](simulation/cta_data_analysis.ipynb)"
   ]
  },
  {
   "cell_type": "code",
   "execution_count": null,
   "metadata": {
    "collapsed": true
   },
   "outputs": [],
   "source": []
  }
 ],
 "metadata": {
  "kernelspec": {
   "display_name": "Python 2",
   "language": "python",
   "name": "python2"
  },
  "language_info": {
   "codemirror_mode": {
    "name": "ipython",
    "version": 2
   },
   "file_extension": ".py",
   "mimetype": "text/x-python",
   "name": "python",
   "nbconvert_exporter": "python",
   "pygments_lexer": "ipython2",
   "version": "2.7.5"
  }
 },
 "nbformat": 4,
 "nbformat_minor": 2
}
